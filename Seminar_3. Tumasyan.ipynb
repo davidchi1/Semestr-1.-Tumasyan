{
 "cells": [
  {
   "cell_type": "markdown",
   "metadata": {},
   "source": [
    "# Задания по семинару 3\n",
    "# Логические переменные, операции сравнения, тернарный оператор"
   ]
  },
  {
   "cell_type": "markdown",
   "metadata": {},
   "source": [
    "1) Добиться вывода на экран сообщения ``\"Правильный ответ!\"``"
   ]
  },
  {
   "cell_type": "code",
   "execution_count": 12,
   "metadata": {
    "scrolled": true
   },
   "outputs": [
    {
     "name": "stdout",
     "output_type": "stream",
     "text": [
      "Введите первую строку: nnn\n",
      "Введите целое число: 2\n",
      "Введите вторую строку: \n"
     ]
    }
   ],
   "source": [
    "s1 = input('Введите первую строку: ')\n",
    "a = int(input('Введите целое число: '))\n",
    "s2 = input('Введите вторую строку: ')"
   ]
  },
  {
   "cell_type": "code",
   "execution_count": 13,
   "metadata": {
    "scrolled": true
   },
   "outputs": [
    {
     "name": "stdout",
     "output_type": "stream",
     "text": [
      "Правильный ответ!\n"
     ]
    }
   ],
   "source": [
    "if s1 and not a - 7 // 3 and not s2:\n",
    "    print('Правильный ответ!')\n",
    "else:\n",
    "    print('Ответ неправильный, попробуйте еще раз.')"
   ]
  },
  {
   "cell_type": "markdown",
   "metadata": {},
   "source": [
    "2) Проверить, является ли введенное пользователем число **четным**."
   ]
  },
  {
   "cell_type": "code",
   "execution_count": 7,
   "metadata": {},
   "outputs": [
    {
     "name": "stdout",
     "output_type": "stream",
     "text": [
      "5\n",
      "Число нечетное\n"
     ]
    }
   ],
   "source": [
    "num = int(input())\n",
    "\n",
    "if num % 2:\n",
    "    print('Число нечетное')\n",
    "else:\n",
    "    print('Число четное')"
   ]
  },
  {
   "cell_type": "markdown",
   "metadata": {},
   "source": [
    "3) Проверить, является ли введенная пользователем строка **палиндромом**."
   ]
  },
  {
   "cell_type": "code",
   "execution_count": 3,
   "metadata": {},
   "outputs": [
    {
     "name": "stdout",
     "output_type": "stream",
     "text": [
      "пррп\n",
      "Ура! Палиндром!\n"
     ]
    }
   ],
   "source": [
    "st = input()\n",
    "palyndrome = st[-1::-1]\n",
    "\n",
    "if (st == palyndrome):\n",
    "    print('Ура! Палиндром!')\n",
    "else:\n",
    "    print('Не палиндром :( Попробуйте снова!')"
   ]
  },
  {
   "cell_type": "markdown",
   "metadata": {},
   "source": [
    "4) Проверить, какая версия Python сейчас выполняется.\n",
    "\n",
    "В случае, если выполняется **32-битная** версия, вывести предупреждение: ``\"Необходимо установить Python 64-bit!\"``, иначе ничего не предпринимать."
   ]
  },
  {
   "cell_type": "code",
   "execution_count": 48,
   "metadata": {},
   "outputs": [],
   "source": [
    "import platform\n",
    "platform.architecture()\n",
    "m32 = '32bit'\n",
    "\n",
    "if m32 in platform.architecture():\n",
    "    print('Необходимо установить Python 64-bit!')"
   ]
  },
  {
   "cell_type": "markdown",
   "metadata": {},
   "source": [
    "5) Запросить пользователя ввести год.\n",
    "\n",
    "Проверить, является ли введенный год високосным.\n",
    "\n",
    "Справка:\n",
    "\n",
    "* год, номер которого кратен 400, — високосный;\n",
    "* остальные годы, номер которых кратен 100, — невисокосные;\n",
    "* остальные годы, номер которых кратен 4, — високосные.\n",
    "\n",
    "-- Википедия\n",
    "\n",
    "http://www.adm.yar.ru/arch_serv/2000/Microsoft/content/vis.htm"
   ]
  },
  {
   "cell_type": "code",
   "execution_count": 34,
   "metadata": {},
   "outputs": [
    {
     "name": "stdout",
     "output_type": "stream",
     "text": [
      "1800\n",
      "невисокосный\n"
     ]
    }
   ],
   "source": [
    "year = int(input())\n",
    "\n",
    "if year % 400 == 0:\n",
    "    str = year\n",
    "    print('Високосный')\n",
    "elif year % 100 == 0:\n",
    "    print('Невисокосный')\n",
    "elif year % 4 == 0:\n",
    "    print('Високосный')"
   ]
  },
  {
   "cell_type": "markdown",
   "metadata": {},
   "source": [
    "6) Проверить выполнение следующих логических тождеств (законов де Моргана) для всех значений ``А`` и ``В`` (*FF, FT, TF, TT*)."
   ]
  },
  {
   "cell_type": "markdown",
   "metadata": {},
   "source": [
    "$$\\overline{A \\lor B} = \\overline{A}\\land\\overline{B}$$\n",
    "\n",
    "$$\\overline{A \\land B} = \\overline{A}\\lor\\overline{B}$$"
   ]
  },
  {
   "cell_type": "code",
   "execution_count": 4,
   "metadata": {},
   "outputs": [
    {
     "ename": "SyntaxError",
     "evalue": "invalid syntax (<ipython-input-4-883780356201>, line 3)",
     "output_type": "error",
     "traceback": [
      "\u001b[1;36m  File \u001b[1;32m\"<ipython-input-4-883780356201>\"\u001b[1;36m, line \u001b[1;32m3\u001b[0m\n\u001b[1;33m    print(\"  A  |  B  | \\U000000AC(A v B) | \\U000000ACA ^ \\U000000ACB | \\U000000AC(A ^ B) | \\U000000ACA v \\U000000ACB{0:^5}|{1:^5}|{2:^10}|{3:^9}|{4:^10}|{5:^9}\".format(A = False, B = True, not(A or B), not A and not B, not(A and B), not A or not B)\u001b[0m\n\u001b[1;37m        ^\u001b[0m\n\u001b[1;31mSyntaxError\u001b[0m\u001b[1;31m:\u001b[0m invalid syntax\n"
     ]
    }
   ],
   "source": [
    "# по очереди перебрать все возможные комбинации\n",
    "print(\"  A  |  B  | \\U000000AC(A v B) | \\U000000ACA ^ \\U000000ACB | \\U000000AC(A ^ B) | \\U000000ACA v \\U000000ACB{0:^5}|{1:^5}|{2:^10}|{3:^9}|{4:^10}|{5:^9}\".format(A = False, B = False, not(A or B), not A and not B, not(A and B), not A or not B)\n",
    "print(\"  A  |  B  | \\U000000AC(A v B) | \\U000000ACA ^ \\U000000ACB | \\U000000AC(A ^ B) | \\U000000ACA v \\U000000ACB{0:^5}|{1:^5}|{2:^10}|{3:^9}|{4:^10}|{5:^9}\".format(A = False, B = True, not(A or B), not A and not B, not(A and B), not A or not B)\n",
    "print(\"  A  |  B  | \\U000000AC(A v B) | \\U000000ACA ^ \\U000000ACB | \\U000000AC(A ^ B) | \\U000000ACA v \\U000000ACB{0:^5}|{1:^5}|{2:^10}|{3:^9}|{4:^10}|{5:^9}\".format(A = True, B = False, not(A or B), not A and not B, not(A and B), not A or not B)    \n",
    "print(\"  A  |  B  | \\U000000AC(A v B) | \\U000000ACA ^ \\U000000ACB | \\U000000AC(A ^ B) | \\U000000ACA v \\U000000ACB{0:^5}|{1:^5}|{2:^10}|{3:^9}|{4:^10}|{5:^9}\".format(A = True, B = True, not(A or B), not A and not B, not(A and B), not A or not B)"
   ]
  },
  {
   "cell_type": "code",
   "execution_count": 25,
   "metadata": {},
   "outputs": [
    {
     "ename": "SyntaxError",
     "evalue": "unexpected EOF while parsing (<ipython-input-25-15e376a7550b>, line 3)",
     "output_type": "error",
     "traceback": [
      "\u001b[1;36m  File \u001b[1;32m\"<ipython-input-25-15e376a7550b>\"\u001b[1;36m, line \u001b[1;32m3\u001b[0m\n\u001b[1;33m    {0:^5}|{1:^5}|{2:^10}|{3:^9}|{4:^10}|{5:^9}\"\"\".format(A, B, not(A or B), not A and not B, not(A and B), not A or not B)\u001b[0m\n\u001b[1;37m                                                                                                                           \n^\u001b[0m\n\u001b[1;31mSyntaxError\u001b[0m\u001b[1;31m:\u001b[0m unexpected EOF while parsing\n"
     ]
    }
   ],
   "source": [
    "# необходимо вписать недостающие аргументы функции format\n",
    "print(\"\"\"  A  |  B  | \\U000000AC(A v B) | \\U000000ACA ^ \\U000000ACB | \\U000000AC(A ^ B) | \\U000000ACA v \\U000000ACB\n",
    "{0:^5}|{1:^5}|{2:^10}|{3:^9}|{4:^10}|{5:^9}\"\"\".format(A, B, not(A or B), not A and not B, not(A and B), not A or not B)"
   ]
  },
  {
   "cell_type": "markdown",
   "metadata": {},
   "source": [
    "7) Записать систему неравенств в **ОДНУ** строку **БЕЗ** использования ``and, or, True, False`` (разрешаются только операции сравнения)"
   ]
  },
  {
   "cell_type": "markdown",
   "metadata": {},
   "source": [
    "\\begin{cases} x^2 > 6 - x \\\\ x > 0 \\end{cases}"
   ]
  },
  {
   "cell_type": "markdown",
   "metadata": {},
   "source": [
    "Проверить на ``x = -7`` (False), -5 (False), 3 (True), 2 (False), 1 (False), 0 (False)."
   ]
  },
  {
   "cell_type": "code",
   "execution_count": 7,
   "metadata": {},
   "outputs": [
    {
     "name": "stdout",
     "output_type": "stream",
     "text": [
      "x = -7: False\n",
      "x = -5: False\n",
      "x = 3: True\n",
      "x = 2: False\n",
      "x = 1: False\n",
      "x = 0: False\n"
     ]
    }
   ],
   "source": [
    "x = -7\n",
    "res = x * x > 6 - x < 6 # система неравенств в одну строку для x\n",
    "print('x = {}: {}'.format(x, res))\n",
    "\n",
    "x = -5\n",
    "res = x * x > 6 - x < 6\n",
    "print('x = {}: {}'.format(x, res))\n",
    "\n",
    "x = 3\n",
    "res = x * x > 6 - x < 6\n",
    "print('x = {}: {}'.format(x, res))\n",
    "\n",
    "x = 2\n",
    "res = x * x > 6 - x < 6\n",
    "print('x = {}: {}'.format(x, res))\n",
    "\n",
    "x = 1\n",
    "res = x * x > 6 - x < 6\n",
    "print('x = {}: {}'.format(x, res))\n",
    "\n",
    "x = 0\n",
    "res = x * x > 6 - x < 6\n",
    "print('x = {}: {}'.format(x, res))"
   ]
  },
  {
   "cell_type": "markdown",
   "metadata": {},
   "source": [
    "8) Переписать все следующие условия в **ОДНУ** строку (разрешаются только операции сравнения)."
   ]
  },
  {
   "cell_type": "markdown",
   "metadata": {},
   "source": [
    "\\begin{cases} 0 \\leq a \\leq c \\\\ 0 \\leq b < c \\\\ b = 2 \\\\ 0 \\leq c < 5 \\end{cases}"
   ]
  },
  {
   "cell_type": "markdown",
   "metadata": {},
   "source": [
    "Проверить на следующих значения a, b, c:"
   ]
  },
  {
   "cell_type": "code",
   "execution_count": 25,
   "metadata": {},
   "outputs": [
    {
     "name": "stdout",
     "output_type": "stream",
     "text": [
      "1\n",
      "2\n",
      "3\n"
     ]
    },
    {
     "data": {
      "text/plain": [
       "True"
      ]
     },
     "execution_count": 25,
     "metadata": {},
     "output_type": "execute_result"
    }
   ],
   "source": [
    "a = int(input())\n",
    "b = int(input())\n",
    "c = int(input())\n",
    "\n",
    "(0 <= a or b or c < 5) and (b == 2) and (b < c)"
   ]
  },
  {
   "cell_type": "code",
   "execution_count": 21,
   "metadata": {},
   "outputs": [],
   "source": [
    "a = 1\n",
    "b = 2\n",
    "c = 3"
   ]
  },
  {
   "cell_type": "markdown",
   "metadata": {},
   "source": [
    "9) Записать перечисленные строки в порядке возрастания.\n",
    "\n",
    "Для проверки воспользуйтесь цепочкой из последовательных сравнений ``s1 < s2 < s3 < ...``, которая должна возвращать True:"
   ]
  },
  {
   "cell_type": "code",
   "execution_count": 7,
   "metadata": {},
   "outputs": [
    {
     "data": {
      "text/plain": [
       "False"
      ]
     },
     "execution_count": 7,
     "metadata": {},
     "output_type": "execute_result"
    }
   ],
   "source": [
    "s1 = 'string'\n",
    "s2 = 'String'\n",
    "s3 = 'strinG'\n",
    "s4 = 'stringlong'\n",
    "s5 = ' string'\n",
    "s6 = 'string '\n",
    "s7 = '_string'\n",
    "\n"
   ]
  },
  {
   "cell_type": "markdown",
   "metadata": {},
   "source": [
    "10) Если в произвольной входной строке (запросить ввод пользователя) встречается ``\"!!!\"``, выводить на печать ``\"exclaim\"``.\n",
    "\n",
    "При этом если строка **начинается** с ``\"!!!\"``, вместо этого выводить ``\"Nota bene: \"`` и исходную строку без восклицательных знаков.\n",
    "\n",
    "Если встречается ``\"???\"``, то выводить ``\"question\"``.\n",
    "\n",
    "Если встречаются **обе** последовательности (``\"!!!\"`` и ``\"???\"``), то ничего не выводить.\n",
    "\n",
    "В других случаях выводить ``\"random\"``."
   ]
  },
  {
   "cell_type": "code",
   "execution_count": 36,
   "metadata": {},
   "outputs": [
    {
     "name": "stdout",
     "output_type": "stream",
     "text": [
      "hkjsh!!!kfgsklgjl??kfj????dflkdfg???dki\n",
      "\n"
     ]
    }
   ],
   "source": [
    "str = input()\n",
    "\n",
    "if str.startswith('!!!'):\n",
    "    print('Nota bene:' + ' ' + str[3::])\n",
    "elif str.find('!!!') != -1 and str.find('???') == 1:\n",
    "    print('exclaim')\n",
    "elif str.find('???') != -1 and str.find('!!!') == 1:\n",
    "    print('question')\n",
    "elif str.find('!!!') * str.find('???') > 0:\n",
    "    print('')\n",
    "else:\n",
    "    print('random')"
   ]
  },
  {
   "cell_type": "markdown",
   "metadata": {},
   "source": [
    "11) В задании 10) добавить проверку на длину входной строки.\n",
    "\n",
    "Если длина строки больше 15 символов, выполнять инструкцию из задания 10). В противном случае выводить исходную строку **три раза** подряд через дефис без изменений, если количество символов **нечетное**, иначе - **четыре раза**."
   ]
  },
  {
   "cell_type": "code",
   "execution_count": 2,
   "metadata": {},
   "outputs": [
    {
     "name": "stdout",
     "output_type": "stream",
     "text": [
      "riogjgd\n",
      "riogjgd-riogjgd-riogjgd\n"
     ]
    }
   ],
   "source": [
    "str = input()\n",
    "\n",
    "if len(str) > 15:\n",
    "    if str.startswith('!!!'):\n",
    "        print('Nota bene:' + ' ' + str[3::])\n",
    "    elif str.find('!!!') != -1 and str.find('???') == -1:\n",
    "        print('exclaim')\n",
    "    elif str.find('???') != -1 and str.find('!!!') == -1:\n",
    "        print('question')\n",
    "    elif str.find('!!!') * str.find('???') > 0:\n",
    "        print('')\n",
    "    else:\n",
    "        print('random')\n",
    "else:\n",
    "    new_str = str + '-'\n",
    "    if len(str) % 2:\n",
    "        print(2*new_str + str)\n",
    "    else:\n",
    "        print(3*new_str + str)"
   ]
  },
  {
   "cell_type": "markdown",
   "metadata": {},
   "source": [
    "12) Протестировать тернарный оператор\n",
    "\n",
    "``x = a if condition else b``\n",
    "\n",
    "на примере.\n",
    "\n",
    "В переменную ``friend`` записать ``x``, если в ``x`` встречается слово ``\"banana\"``, в ином случае записать в нее ``y``.\n",
    "\n",
    "Пример:"
   ]
  },
  {
   "cell_type": "code",
   "execution_count": 29,
   "metadata": {},
   "outputs": [
    {
     "data": {
      "text/plain": [
       "'orangutan'"
      ]
     },
     "execution_count": 29,
     "metadata": {},
     "output_type": "execute_result"
    }
   ],
   "source": [
    "x = \"banana monkey\"\n",
    "y = \"orangutan\"\n",
    "friend = x if 'banana' in x else y\n",
    "\n",
    "friend"
   ]
  },
  {
   "cell_type": "code",
   "execution_count": 49,
   "metadata": {},
   "outputs": [
    {
     "data": {
      "text/plain": [
       "'banana monkey'"
      ]
     },
     "execution_count": 49,
     "metadata": {},
     "output_type": "execute_result"
    }
   ],
   "source": [
    "x = \"banana monkey\"\n",
    "y = \"orangutan\"\n",
    "friend = x if 'banana' in x else y\n",
    "\n",
    "friend"
   ]
  },
  {
   "cell_type": "code",
   "execution_count": null,
   "metadata": {},
   "outputs": [],
   "source": []
  }
 ],
 "metadata": {
  "anaconda-cloud": {},
  "kernelspec": {
   "display_name": "Python 3",
   "language": "python",
   "name": "python3"
  },
  "language_info": {
   "codemirror_mode": {
    "name": "ipython",
    "version": 3
   },
   "file_extension": ".py",
   "mimetype": "text/x-python",
   "name": "python",
   "nbconvert_exporter": "python",
   "pygments_lexer": "ipython3",
   "version": "3.7.0"
  }
 },
 "nbformat": 4,
 "nbformat_minor": 2
}
