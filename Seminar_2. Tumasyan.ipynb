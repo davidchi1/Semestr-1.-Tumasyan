{
 "cells": [
  {
   "cell_type": "markdown",
   "metadata": {},
   "source": [
    "## Задания по семинару 2"
   ]
  },
  {
   "cell_type": "markdown",
   "metadata": {},
   "source": [
    "В ячеке под заданием приведите его решение. Для заданий, рассмотренных на семинаре, можете использовать решение полученное на занятии."
   ]
  },
  {
   "cell_type": "markdown",
   "metadata": {},
   "source": [
    "-----"
   ]
  },
  {
   "cell_type": "markdown",
   "metadata": {},
   "source": [
    "0) Получить переменную, содержащую строку со значением равным двум в одиннадцатой степени и вывести ее на экран."
   ]
  },
  {
   "cell_type": "markdown",
   "metadata": {},
   "source": [
    "1) Наибольшим количеством способов создать строковую переменную, содержащую текст:"
   ]
  },
  {
   "cell_type": "raw",
   "metadata": {},
   "source": [
    "It's \"quoted string\""
   ]
  },
  {
   "cell_type": "code",
   "execution_count": 1,
   "metadata": {},
   "outputs": [
    {
     "name": "stdout",
     "output_type": "stream",
     "text": [
      "It's \"quoted string\"\n"
     ]
    }
   ],
   "source": [
    "str = '''It's \"quoted string\"'''\n",
    "print(str)"
   ]
  },
  {
   "cell_type": "code",
   "execution_count": 2,
   "metadata": {},
   "outputs": [
    {
     "name": "stdout",
     "output_type": "stream",
     "text": [
      "It's \"quoted string\"\n"
     ]
    }
   ],
   "source": [
    "print('''It's \"quoted string\"''')"
   ]
  },
  {
   "cell_type": "code",
   "execution_count": 4,
   "metadata": {},
   "outputs": [
    {
     "name": "stdout",
     "output_type": "stream",
     "text": [
      "It's \"quoted string\"\n"
     ]
    }
   ],
   "source": [
    "str = input()"
   ]
  },
  {
   "cell_type": "markdown",
   "metadata": {},
   "source": [
    "2) Наибольшим количеством способов создать строковую переменную, содержащую текст:"
   ]
  },
  {
   "cell_type": "raw",
   "metadata": {},
   "source": [
    "line1\n",
    "\n",
    "line2\n",
    "\n",
    "line3"
   ]
  },
  {
   "cell_type": "code",
   "execution_count": 11,
   "metadata": {},
   "outputs": [
    {
     "name": "stdout",
     "output_type": "stream",
     "text": [
      " line1 \n",
      "\n",
      " line2 \n",
      "\n",
      " line3\n"
     ]
    }
   ],
   "source": [
    "str = ' line1 \\n\\n line2 \\n\\n line3'\n",
    "print(str)"
   ]
  },
  {
   "cell_type": "markdown",
   "metadata": {},
   "source": [
    "3) Наибольшим количеством способов создать строковую переменную, содержащую текст:"
   ]
  },
  {
   "cell_type": "raw",
   "metadata": {},
   "source": [
    "\\\\\\\\\n",
    "\n",
    "\\\\\\\n",
    "\n",
    "\\\\\n",
    "\n",
    "\\"
   ]
  },
  {
   "cell_type": "code",
   "execution_count": 37,
   "metadata": {},
   "outputs": [
    {
     "ename": "SyntaxError",
     "evalue": "EOL while scanning string literal (<ipython-input-37-6136e8b898ee>, line 1)",
     "output_type": "error",
     "traceback": [
      "\u001b[1;36m  File \u001b[1;32m\"<ipython-input-37-6136e8b898ee>\"\u001b[1;36m, line \u001b[1;32m1\u001b[0m\n\u001b[1;33m    backsl1 = '\\r\\'\u001b[0m\n\u001b[1;37m                   ^\u001b[0m\n\u001b[1;31mSyntaxError\u001b[0m\u001b[1;31m:\u001b[0m EOL while scanning string literal\n"
     ]
    }
   ],
   "source": []
  },
  {
   "cell_type": "markdown",
   "metadata": {},
   "source": [
    "4) Вывести 5й с начала и 5й с конца символ из строки 'Hello world'"
   ]
  },
  {
   "cell_type": "code",
   "execution_count": 15,
   "metadata": {},
   "outputs": [
    {
     "name": "stdout",
     "output_type": "stream",
     "text": [
      "o\n",
      "w\n"
     ]
    }
   ],
   "source": [
    "str = 'Hello world'\n",
    "print(str[4])\n",
    "print(str[-5])"
   ]
  },
  {
   "cell_type": "markdown",
   "metadata": {},
   "source": [
    "5) Двумя способами получить символ 'w' из строки 'Hello world'"
   ]
  },
  {
   "cell_type": "code",
   "execution_count": 16,
   "metadata": {},
   "outputs": [
    {
     "name": "stdout",
     "output_type": "stream",
     "text": [
      "w\n",
      "w\n"
     ]
    }
   ],
   "source": [
    "str = 'Hello world'\n",
    "print(str[6])\n",
    "print(str[-5])"
   ]
  },
  {
   "cell_type": "markdown",
   "metadata": {},
   "source": [
    "6) Вывести символ, находящийся в середине заранее неизвестной строки, полученной с помощью функции input().\n",
    "\n",
    "Пример использования функции input:"
   ]
  },
  {
   "cell_type": "code",
   "execution_count": null,
   "metadata": {},
   "outputs": [],
   "source": [
    "str = input()"
   ]
  },
  {
   "cell_type": "code",
   "execution_count": 3,
   "metadata": {
    "scrolled": true
   },
   "outputs": [
    {
     "name": "stdout",
     "output_type": "stream",
     "text": [
      "fdgb\n",
      "The string is invalid!\n"
     ]
    }
   ],
   "source": [
    "st = input()\n",
    "\n",
    "if len(st) % 2:\n",
    "    print(st[(len(st) - 1) // 2])\n",
    "else:\n",
    "    print('The string is invalid!')"
   ]
  },
  {
   "cell_type": "markdown",
   "metadata": {},
   "source": [
    "7) Для строки 'Light ray' двумя способами получить подстроку с 1го по 4й символы включительно."
   ]
  },
  {
   "cell_type": "code",
   "execution_count": 5,
   "metadata": {},
   "outputs": [
    {
     "data": {
      "text/plain": [
       "'Ligh'"
      ]
     },
     "execution_count": 5,
     "metadata": {},
     "output_type": "execute_result"
    }
   ],
   "source": [
    "line = 'Light ray'\n",
    "line[:4:]\n",
    "line[:4:1]"
   ]
  },
  {
   "cell_type": "markdown",
   "metadata": {},
   "source": [
    "8) Для строки 'My new text' двумя способами получить подстроку с 3го по 7й символы включительно."
   ]
  },
  {
   "cell_type": "code",
   "execution_count": 7,
   "metadata": {},
   "outputs": [
    {
     "data": {
      "text/plain": [
       "'new '"
      ]
     },
     "execution_count": 7,
     "metadata": {},
     "output_type": "execute_result"
    }
   ],
   "source": [
    "line = 'My new text'\n",
    "line[3:7:]\n"
   ]
  },
  {
   "cell_type": "markdown",
   "metadata": {},
   "source": [
    "9) Получить подстроку из последних 4х символов строки 'Light ray'."
   ]
  },
  {
   "cell_type": "code",
   "execution_count": 8,
   "metadata": {},
   "outputs": [
    {
     "data": {
      "text/plain": [
       "' ray'"
      ]
     },
     "execution_count": 8,
     "metadata": {},
     "output_type": "execute_result"
    }
   ],
   "source": [
    "line = 'Light ray'\n",
    "line[-4:]"
   ]
  },
  {
   "cell_type": "markdown",
   "metadata": {},
   "source": [
    "10) Составить строку из всех четных символов строки 'Light ray'."
   ]
  },
  {
   "cell_type": "code",
   "execution_count": 9,
   "metadata": {},
   "outputs": [
    {
     "data": {
      "text/plain": [
       "'ih a'"
      ]
     },
     "execution_count": 9,
     "metadata": {},
     "output_type": "execute_result"
    }
   ],
   "source": [
    "line = 'Light ray'\n",
    "line[1::2]"
   ]
  },
  {
   "cell_type": "markdown",
   "metadata": {},
   "source": [
    "11) Составить строку из всех нечетных символов строки 'Light ray'."
   ]
  },
  {
   "cell_type": "code",
   "execution_count": 10,
   "metadata": {},
   "outputs": [
    {
     "data": {
      "text/plain": [
       "'Lgtry'"
      ]
     },
     "execution_count": 10,
     "metadata": {},
     "output_type": "execute_result"
    }
   ],
   "source": [
    "line = 'Light ray'\n",
    "line[::2]"
   ]
  },
  {
   "cell_type": "markdown",
   "metadata": {},
   "source": [
    "12) Инвертировать (получить строку с обратной последовательностью символо) строку  'Light ray'."
   ]
  },
  {
   "cell_type": "code",
   "execution_count": 19,
   "metadata": {},
   "outputs": [
    {
     "data": {
      "text/plain": [
       "'yar thgiL'"
      ]
     },
     "execution_count": 19,
     "metadata": {},
     "output_type": "execute_result"
    }
   ],
   "source": [
    "line = 'Light ray'\n",
    "\n",
    "line[-1::-1]"
   ]
  },
  {
   "cell_type": "markdown",
   "metadata": {},
   "source": [
    "13) Вывести c третьего с начала до предпоследнего символа заранее низвестной строки, полученной с помощью функции input()."
   ]
  },
  {
   "cell_type": "code",
   "execution_count": 22,
   "metadata": {},
   "outputs": [
    {
     "name": "stdout",
     "output_type": "stream",
     "text": [
      "ghweirgiwjg\n"
     ]
    },
    {
     "data": {
      "text/plain": [
       "'weirgiwj'"
      ]
     },
     "execution_count": 22,
     "metadata": {},
     "output_type": "execute_result"
    }
   ],
   "source": [
    "line = input()\n",
    "line[2:-1:]"
   ]
  },
  {
   "cell_type": "markdown",
   "metadata": {},
   "source": [
    "14) Получить подстроку неизвестной заранее строки, содержащую половину символов строки и расположенную по середине строки."
   ]
  },
  {
   "cell_type": "code",
   "execution_count": 28,
   "metadata": {},
   "outputs": [
    {
     "name": "stdout",
     "output_type": "stream",
     "text": [
      "cvbn\n",
      "vb\n"
     ]
    }
   ],
   "source": [
    "line = input()\n",
    "if not len(line) % 4:\n",
    "    print(line[len(line) // 4: len(line) - (len(line) // 4):])\n",
    "else:\n",
    "    print('Line is invalid!')"
   ]
  },
  {
   "cell_type": "markdown",
   "metadata": {},
   "source": [
    "15) Проверить, содержит ли произвольная строка, прочитанная в обратную сторону последовательность 'eno' "
   ]
  },
  {
   "cell_type": "code",
   "execution_count": null,
   "metadata": {},
   "outputs": [],
   "source": [
    "line1 = input()\n",
    "line2 = line1[-1::-1]\n",
    "\n",
    "'eno' in line2"
   ]
  },
  {
   "cell_type": "markdown",
   "metadata": {},
   "source": [
    "16) Получить строку, начинающуюся с последних 3 символов стркои 'Light ray', а заканчивающуюся подстрокой с 1го до 4го  символа строки."
   ]
  },
  {
   "cell_type": "code",
   "execution_count": 11,
   "metadata": {},
   "outputs": [
    {
     "name": "stdout",
     "output_type": "stream",
     "text": [
      "rayLigh\n"
     ]
    }
   ],
   "source": [
    "stroka = 'Light ray'\n",
    "new_stroka = stroka[len(stroka) - 3::] + stroka[:4:]\n",
    "print(new_stroka)"
   ]
  },
  {
   "cell_type": "markdown",
   "metadata": {},
   "source": [
    "17) Коротко записать создание строки 'oneoneoneoneoneonetwotwotwo'"
   ]
  },
  {
   "cell_type": "code",
   "execution_count": 13,
   "metadata": {},
   "outputs": [],
   "source": [
    "stroka = 6 * 'one' + 3 * 'two'"
   ]
  },
  {
   "cell_type": "markdown",
   "metadata": {},
   "source": [
    "18) Разбить строку на список из строк, состоящих только из названий чисел."
   ]
  },
  {
   "cell_type": "code",
   "execution_count": 14,
   "metadata": {},
   "outputs": [
    {
     "name": "stdout",
     "output_type": "stream",
     "text": [
      "  one,two,three,four,five,six,seven,eight,nine,ten   \n"
     ]
    }
   ],
   "source": [
    "st = '  one,two,three,four,five,six,seven,eight,nine,ten   '\n",
    "st.strip()\n",
    "print(st)"
   ]
  },
  {
   "cell_type": "markdown",
   "metadata": {},
   "source": [
    "19) Вставить между всеми символами строки 'Hello world' стрелочку '->' и сохранить результат в строковой переменной.\n",
    "\n",
    "Ожидаемый результат:"
   ]
  },
  {
   "cell_type": "raw",
   "metadata": {},
   "source": [
    "H->e->l->l->o-> ->w->o->r->l->d"
   ]
  },
  {
   "cell_type": "code",
   "execution_count": 1,
   "metadata": {},
   "outputs": [
    {
     "name": "stdout",
     "output_type": "stream",
     "text": [
      "H->e->l->l->o-> ->w->o->r->l->d->"
     ]
    }
   ],
   "source": [
    "str = 'Hello world'\n",
    "\n",
    "for i in str:\n",
    "    print(i, end = \"->\")"
   ]
  },
  {
   "cell_type": "markdown",
   "metadata": {},
   "source": [
    "20) Для двух произвольных строк провести сравнение на совпадение содержимого без учета регистра букв и начальных и конечных пробельных символов.\n",
    "\n",
    "Например, для двух строк"
   ]
  },
  {
   "cell_type": "code",
   "execution_count": 3,
   "metadata": {
    "collapsed": true
   },
   "outputs": [],
   "source": [
    "st1 = '  HeLLO WOrlD'"
   ]
  },
  {
   "cell_type": "code",
   "execution_count": null,
   "metadata": {},
   "outputs": [],
   "source": [
    "st2 = 'hello WORLD  '"
   ]
  },
  {
   "cell_type": "code",
   "execution_count": 6,
   "metadata": {},
   "outputs": [
    {
     "name": "stdout",
     "output_type": "stream",
     "text": [
      "  HeLLO WOrlD\n",
      "hello WORLD  \n",
      "False\n"
     ]
    }
   ],
   "source": [
    "st1 = input()\n",
    "st2 = input()\n",
    "st1.replace(' ', '')\n",
    "st2.replace(' ', '')\n",
    "st1.lower()\n",
    "st2.lower()\n",
    "\n",
    "print(st1 == st2)"
   ]
  },
  {
   "cell_type": "markdown",
   "metadata": {},
   "source": [
    "такое сравнение должно возвращать True (содержание строк совпадает)."
   ]
  },
  {
   "cell_type": "markdown",
   "metadata": {},
   "source": [
    "21) В строке 'hello hello Hello hello' найти индекс второго вхождения подстроки 'hel' "
   ]
  },
  {
   "cell_type": "code",
   "execution_count": 51,
   "metadata": {},
   "outputs": [
    {
     "name": "stdout",
     "output_type": "stream",
     "text": [
      "6\n"
     ]
    }
   ],
   "source": [
    "strk = 'hello hello Hello hello'\n",
    "\n",
    "k = strk.find('hel')\n",
    "l = strk.find('hel', k + 1)\n",
    "\n",
    "print(l)"
   ]
  },
  {
   "cell_type": "markdown",
   "metadata": {},
   "source": [
    "22) В строке 'hello hello Hello hello' найти индекс второго С КОНЦА вхождения подстроки 'hel'"
   ]
  },
  {
   "cell_type": "code",
   "execution_count": 55,
   "metadata": {},
   "outputs": [
    {
     "name": "stdout",
     "output_type": "stream",
     "text": [
      "14\n"
     ]
    }
   ],
   "source": [
    "strk1 = 'hello hello Hello hello'\n",
    "strk2 = strk1[-1::-1]\n",
    "\n",
    "k = strk2.find('leh')\n",
    "l = strk2.find('leh', k + 1)\n",
    "\n",
    "print(l)"
   ]
  },
  {
   "cell_type": "markdown",
   "metadata": {},
   "source": [
    "23) Из заранее неизвестной строки вырезать подстроку, начинающуюся с 'he' и заканчивающееся 'on'. Протестировать на строке"
   ]
  },
  {
   "cell_type": "code",
   "execution_count": 39,
   "metadata": {},
   "outputs": [
    {
     "name": "stdout",
     "output_type": "stream",
     "text": [
      "hello python\n"
     ]
    }
   ],
   "source": [
    "str = '    start hello python world'\n",
    "\n",
    "m = str.find('he')\n",
    "n = str.find('on')\n",
    "\n",
    "print(str[m:n+2])"
   ]
  },
  {
   "cell_type": "raw",
   "metadata": {},
   "source": [
    "    start hello python world"
   ]
  },
  {
   "cell_type": "markdown",
   "metadata": {},
   "source": [
    "24) Используя цикл for и функцию enumerate() (см. лекцию 2) вывести произвольную строку на экран и при этом убрать все пробелы и на их месте вывести номер слова по счету\n",
    "\n",
    "Пример.\n",
    "\n",
    "Исходная строка:"
   ]
  },
  {
   "cell_type": "raw",
   "metadata": {},
   "source": [
    "hello hello Hello hello"
   ]
  },
  {
   "cell_type": "markdown",
   "metadata": {},
   "source": [
    "выведено на экран:"
   ]
  },
  {
   "cell_type": "raw",
   "metadata": {},
   "source": [
    "hello1hello2Hello3hello4"
   ]
  },
  {
   "cell_type": "code",
   "execution_count": 1,
   "metadata": {},
   "outputs": [
    {
     "name": "stdout",
     "output_type": "stream",
     "text": [
      "hello hello Hello hello\n",
      "hello1hello2Hello3hello4\n"
     ]
    }
   ],
   "source": [
    "stroka = input()\n",
    "k = 1\n",
    "for ind, symb in enumerate(stroka):\n",
    "    if(symb == \" \"):\n",
    "        print(k, end = \"\")\n",
    "        k += 1\n",
    "    elif(ind == len(stroka) - 1):\n",
    "        print(symb + str(k))\n",
    "    else:\n",
    "        print(symb, end = \"\")"
   ]
  },
  {
   "cell_type": "markdown",
   "metadata": {},
   "source": [
    "25) Сформировать строку форматирования, которая для вызова"
   ]
  },
  {
   "cell_type": "raw",
   "metadata": {},
   "source": [
    "format('val1', 'val2', 'val3')"
   ]
  },
  {
   "cell_type": "code",
   "execution_count": 15,
   "metadata": {},
   "outputs": [
    {
     "data": {
      "text/plain": [
       "'val3-val2-val1-val2-val3'"
      ]
     },
     "execution_count": 15,
     "metadata": {},
     "output_type": "execute_result"
    }
   ],
   "source": [
    "\"{2}-{1}-{0}-{1}-{2}\".format('val1', 'val2', 'val3')"
   ]
  },
  {
   "cell_type": "markdown",
   "metadata": {},
   "source": [
    "будет возрващать следующий результат:"
   ]
  },
  {
   "cell_type": "raw",
   "metadata": {},
   "source": [
    "val3-val2-val1-val2-val3"
   ]
  },
  {
   "cell_type": "markdown",
   "metadata": {},
   "source": [
    "26) Сформировать строку форматирования fs, которая при использовании в нижеследующем коде приводит к формированию таблицы, выведенной в следующей ячейке."
   ]
  },
  {
   "cell_type": "code",
   "execution_count": 85,
   "metadata": {},
   "outputs": [
    {
     "name": "stdout",
     "output_type": "stream",
     "text": [
      "0123456789012345678901234567890123456789\n",
      "|   1 | ###59.06|      453 | 00010000 |\n",
      "|   5 | ##159.00|  123,453 | 00111000 |\n",
      "|  15 | #-159.10| -     12 | 01000000 |\n",
      "| 105 | -1059.10|    1,200 | 11111111 |\n"
     ]
    }
   ],
   "source": [
    "print('0123456789' * 4)\n",
    "fs = \"|{line: > 4} | {1:#>8.2f}| {0:=8,d} | {2:0^8b} |\" # задайте тут свою строку форматирования\n",
    "print(fs.format(453, 59.058, 1, line=1))\n",
    "print(fs.format(123453, 159.0, 7, line=5))\n",
    "print(fs.format(-12, -159.099, 16, line=15))\n",
    "print(fs.format(1200, -1059.099, 255, line=105))"
   ]
  },
  {
   "cell_type": "code",
   "execution_count": 6,
   "metadata": {
    "scrolled": true
   },
   "outputs": [
    {
     "name": "stdout",
     "output_type": "stream",
     "text": [
      "\n",
      "0123456789012345678901234567890123456789\n",
      "|   1 | ###59.06|      453 | 00000001 |\n",
      "|   5 | ##159.00|  123,453 | 00000111 |\n",
      "|  15 | #-159.10| -     12 | 00010000 |\n",
      "| 105 | -1059.10|    1,200 | 11111111 |\n",
      "\n"
     ]
    }
   ],
   "source": [
    "print(\"\"\"\n",
    "0123456789012345678901234567890123456789\n",
    "|   1 | ###59.06|      453 | 00000001 |\n",
    "|   5 | ##159.00|  123,453 | 00000111 |\n",
    "|  15 | #-159.10| -     12 | 00010000 |\n",
    "| 105 | -1059.10|    1,200 | 11111111 |\n",
    "\"\"\")"
   ]
  },
  {
   "cell_type": "code",
   "execution_count": null,
   "metadata": {
    "collapsed": true
   },
   "outputs": [],
   "source": []
  }
 ],
 "metadata": {
  "anaconda-cloud": {},
  "kernelspec": {
   "display_name": "Python 3",
   "language": "python",
   "name": "python3"
  },
  "language_info": {
   "codemirror_mode": {
    "name": "ipython",
    "version": 3
   },
   "file_extension": ".py",
   "mimetype": "text/x-python",
   "name": "python",
   "nbconvert_exporter": "python",
   "pygments_lexer": "ipython3",
   "version": "3.7.0"
  }
 },
 "nbformat": 4,
 "nbformat_minor": 1
}
