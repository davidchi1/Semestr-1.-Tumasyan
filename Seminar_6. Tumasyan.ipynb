{
 "cells": [
  {
   "cell_type": "markdown",
   "metadata": {},
   "source": [
    "# Задания по семинару 6\n",
    "\n",
    "# Списки"
   ]
  },
  {
   "cell_type": "markdown",
   "metadata": {},
   "source": [
    "1) Создать список, состоящий из нечетных чисел от 5 до 25.\n"
   ]
  },
  {
   "cell_type": "code",
   "execution_count": 2,
   "metadata": {},
   "outputs": [
    {
     "name": "stdout",
     "output_type": "stream",
     "text": [
      "[5, 7, 9, 11, 13, 15, 17, 19, 21, 23, 25]\n"
     ]
    }
   ],
   "source": [
    "ftf = list(range(5, 26, 2))\n",
    "\n",
    "print(ftf)"
   ]
  },
  {
   "cell_type": "markdown",
   "metadata": {},
   "source": [
    "2) Создать список из чисел 31, 24, 17 тремя способами:\n",
    "- перечисление,\n",
    "- на основе другого списка (по сути, создать копию списка),\n",
    "- с помощью функции ``range``.\n",
    "\n",
    "Вывести списки на экран.\n",
    "\n",
    "Создать и вывести на экран список, состоящий из полученных списков (список списков)."
   ]
  },
  {
   "cell_type": "code",
   "execution_count": 4,
   "metadata": {},
   "outputs": [
    {
     "data": {
      "text/plain": [
       "[[31, 24, 17], [31, 24, 17], [31, 24, 17]]"
      ]
     },
     "execution_count": 4,
     "metadata": {},
     "output_type": "execute_result"
    }
   ],
   "source": [
    "spisok1 = [31, 24, 17]\n",
    "spisok2 = spisok1[:]\n",
    "spisok3 = list(range(31, 16, -7))\n",
    "\n",
    "ospisok = [spisok1,spisok2,spisok3]\n",
    "ospisok"
   ]
  },
  {
   "cell_type": "markdown",
   "metadata": {},
   "source": [
    "3) Создать список из 10 членов геометрической прогрессии со знаменателем 3 начинающейся с 2."
   ]
  },
  {
   "cell_type": "code",
   "execution_count": 5,
   "metadata": {},
   "outputs": [
    {
     "data": {
      "text/plain": [
       "[2, 6, 18, 54, 162, 486, 1458, 4374, 13122, 39366]"
      ]
     },
     "execution_count": 5,
     "metadata": {},
     "output_type": "execute_result"
    }
   ],
   "source": [
    "geom = []\n",
    "b = 2\n",
    "\n",
    "for k in range(10):\n",
    "    geom.append(b)\n",
    "    b *= 3\n",
    "geom"
   ]
  },
  {
   "cell_type": "markdown",
   "metadata": {},
   "source": [
    "4) Создать и вывести на экран список из всех цифр, встречающихся в введенной пользователем строке. Например:"
   ]
  },
  {
   "cell_type": "raw",
   "metadata": {},
   "source": [
    "'fghio345jkw23ihi2' -> [3, 4, 5, 2, 3, 2]"
   ]
  },
  {
   "cell_type": "code",
   "execution_count": 9,
   "metadata": {},
   "outputs": [
    {
     "name": "stdout",
     "output_type": "stream",
     "text": [
      "fghio345jkw23ihi2\n"
     ]
    },
    {
     "data": {
      "text/plain": [
       "[3, 4, 5, 2, 3, 2]"
      ]
     },
     "execution_count": 9,
     "metadata": {},
     "output_type": "execute_result"
    }
   ],
   "source": [
    "strk = input()\n",
    "digs = []\n",
    "\n",
    "for i in strk:\n",
    "    if (i.isdigit()):\n",
    "        digs.append(int(i))\n",
    "digs\n"
   ]
  },
  {
   "cell_type": "markdown",
   "metadata": {},
   "source": [
    "5) Создать список из всех слов имеющихся во введенной пользователем строке. Например:"
   ]
  },
  {
   "cell_type": "raw",
   "metadata": {},
   "source": [
    "'Hello, my friend! How are you?' -> ['Hello', 'my', 'friend', 'How', 'are', 'you']"
   ]
  },
  {
   "cell_type": "code",
   "execution_count": 15,
   "metadata": {},
   "outputs": [
    {
     "name": "stdout",
     "output_type": "stream",
     "text": [
      "try 567tyu\n"
     ]
    },
    {
     "data": {
      "text/plain": [
       "['try 567tyu']"
      ]
     },
     "execution_count": 15,
     "metadata": {},
     "output_type": "execute_result"
    }
   ],
   "source": [
    "strk = input()\n",
    "words = []\n",
    "\n",
    "for i in strk:\n",
    "    if not i.isalpha()\n",
    "        "
   ]
  },
  {
   "cell_type": "markdown",
   "metadata": {},
   "source": [
    "6) Дан список с произвольным количеством элементов. Если в заданный список входит слово ``\"repeat\"``, а последний элемент списка - это число, то продублировать все элементы списка, кроме двух последних. Количество копий соответствует числу, являющимся последним элементов списка. Последние два элемента списка просто добавляются в конец нового списка (без дублирования). Например:"
   ]
  },
  {
   "cell_type": "raw",
   "metadata": {},
   "source": [
    "['input', 'repeat', 'string', 2] -> ['input', 'repeat', 'input', 'repeat', 'string', 2]"
   ]
  },
  {
   "cell_type": "code",
   "execution_count": 6,
   "metadata": {},
   "outputs": [
    {
     "name": "stdout",
     "output_type": "stream",
     "text": [
      "ghjk\n"
     ]
    },
    {
     "data": {
      "text/plain": [
       "[]"
      ]
     },
     "execution_count": 6,
     "metadata": {},
     "output_type": "execute_result"
    }
   ],
   "source": [
    "lst11=list(input().split())\n",
    "lst12=[]\n",
    "elem ='repeat'\n",
    "\n",
    "b=lst11[:-2]\n",
    "if (elem in lst11) and (lst11[-1].isdigit()==True):\n",
    "    a = int(lst11[-1])\n",
    "    lst12=b*a\n",
    "    lst12.append(lst11[-2])\n",
    "    lst12.append(lst11[-1])\n",
    "lst12\n",
    "\n"
   ]
  },
  {
   "cell_type": "markdown",
   "metadata": {},
   "source": [
    "7) Запросить у пользователя две произвольные строки. Создать список, который состоит из введенных пользователем строк, их длин и результата проверки соблюдения лексикографического порядка (идет ли первая строка раньше второй).\n",
    "\n",
    "Запросить у пользователя, что он хочет узнать, и записать это в переменную ``output``. Возможны два варианта: ``'lengths'`` и ``'order'``. В зависимости от значения ``output`` путем обращения к элементам созданного ранее списка выводить либо длины строк (``output='lengths'``, в формате ``\"Длины строк: 4 и 5\"``), либо описание порядка (``output='order'``, в формате ``\"Строка 'первая' идет ПОСЛЕ строки 'вторая'\"``)."
   ]
  },
  {
   "cell_type": "code",
   "execution_count": 7,
   "metadata": {},
   "outputs": [
    {
     "name": "stdout",
     "output_type": "stream",
     "text": [
      "nm\n",
      "hj'\n",
      "5\n"
     ]
    }
   ],
   "source": [
    "str1 = input()\n",
    "str2 = input()\n",
    "\n",
    "lst = []\n",
    "lst.append(str1)\n",
    "lst.append(str2)\n",
    "a = str(len(str1))\n",
    "b = str(len(str2))\n",
    "lst.append(a)\n",
    "lst.append(b)\n",
    "lst.append('первая')\n",
    "lst.append('вторая')\n",
    "output = input()\n",
    "\n",
    "if (output == 'lengths'):\n",
    "    print('Длны строк:'+' '+lst[2]+' '+'и'+' '+lst[3])\n",
    "if (output == 'order'):\n",
    "    print('Строка'+' '+lst[1]+' '+'идет ПОСЛЕ строки'+' '+lst[0])"
   ]
  },
  {
   "cell_type": "markdown",
   "metadata": {},
   "source": [
    "8) Запросить у пользователя 2 целых положительных числа и сохранить их в переменные ``max_val`` и ``repeat``.\n",
    "\n",
    "Создать список из целых чисел со значениями от ``1`` до ``max_val`` включительно, повторенными ``repeat`` раз.\n",
    "\n",
    "Например, для ``max_val=4``, ``repeat=3``  должен быть создан список: ``[1, 2, 3, 4, 1, 2, 3, 4, 1, 2, 3, 4]``."
   ]
  },
  {
   "cell_type": "code",
   "execution_count": 10,
   "metadata": {},
   "outputs": [
    {
     "name": "stdout",
     "output_type": "stream",
     "text": [
      "6\n",
      "2\n"
     ]
    },
    {
     "data": {
      "text/plain": [
       "[1, 2, 3, 4, 5, 6, 1, 2, 3, 4, 5, 6]"
      ]
     },
     "execution_count": 10,
     "metadata": {},
     "output_type": "execute_result"
    }
   ],
   "source": [
    "max_val = int(input())\n",
    "repeat = int(input())\n",
    "\n",
    "newlist = list(range(1, max_val + 1)) * repeat\n",
    "newlist"
   ]
  },
  {
   "cell_type": "markdown",
   "metadata": {},
   "source": [
    "9) Даны два списка произвольной длины, элементами которых являются целые числа. Во втором списке умножить элементы, отсутствующие в первом списке, на 10. (Новые списки создавать нельзя, необходимо изменить существующий.)"
   ]
  },
  {
   "cell_type": "code",
   "execution_count": null,
   "metadata": {},
   "outputs": [],
   "source": [
    "list1 = [1, 2, 3, 98, 4, 54, 3, 71]\n",
    "list2 = [2, 1, 5, 45, 40, 4, 11, 71, 9]\n",
    "\n",
    "k = 0\n",
    "\n",
    "for i in list2:\n",
    "    if not i in list1:\n",
    "        list2[k] *= 10\n",
    "    k += 1\n",
    "list2"
   ]
  },
  {
   "cell_type": "markdown",
   "metadata": {},
   "source": [
    "10) Из произвольной строки создать список. Вместо каждой буквы ``\"s\"`` (без учета регистра), стоящей не на первом и не на последнем месте, вставить в список строку из удвоенного предыдущего символа и одного следующего.\n",
    "\n",
    "Например:"
   ]
  },
  {
   "cell_type": "raw",
   "metadata": {},
   "source": [
    "\"test_Stringss\" -> ['t', 'e', 'eet', 't', '_', '__t', 't', 'r', 'i', 'n', 'g', 'ggs', 's']"
   ]
  },
  {
   "cell_type": "code",
   "execution_count": null,
   "metadata": {},
   "outputs": [],
   "source": [
    "breakdown = []\n",
    "strk = input()\n",
    "\n",
    "for ind, symb in enumerate(strk):\n",
    "    if (symb.lower() == 's' and ind != 0 and ind != len(strk) - 1):  \n",
    "        breakdown.append(breakdown[ind - 1] * 2 + breakdown[ind + 1]) \n",
    "    else:\n",
    "        breakdown.append(symb)"
   ]
  },
  {
   "cell_type": "markdown",
   "metadata": {},
   "source": [
    "11) Запросить у пользователя целое положительное число. Данное число - это длина списка.\n",
    "\n",
    "Организовать заполнение списка заданной длины пользовательскими значениями, полученными с помощью функции ``input``."
   ]
  },
  {
   "cell_type": "code",
   "execution_count": 11,
   "metadata": {},
   "outputs": [
    {
     "name": "stdout",
     "output_type": "stream",
     "text": [
      "-1\n",
      "-2\n",
      "5\n",
      "f\n",
      "f\n",
      "f\n",
      "f\n",
      "ff\n"
     ]
    }
   ],
   "source": [
    "k = int(input())\n",
    "spsk = []\n",
    "\n",
    "if(k <= 0):\n",
    "    while(k <= 0):\n",
    "        k = int(input())\n",
    "for i in range (0, k):\n",
    "    spsk.append(input())    "
   ]
  },
  {
   "cell_type": "markdown",
   "metadata": {
    "collapsed": true
   },
   "source": [
    "12) Написать програмный код, который генерирует вложнный список образующий единичную матрицу 4 на 4. Результат работы алгоритма:"
   ]
  },
  {
   "cell_type": "raw",
   "metadata": {},
   "source": [
    "[[1, 0, 0, 0],\n",
    " [0, 1, 0, 0],\n",
    " [0, 0, 1, 0],\n",
    " [0, 0, 0, 1]]"
   ]
  },
  {
   "cell_type": "code",
   "execution_count": null,
   "metadata": {},
   "outputs": [],
   "source": [
    "m = [1, 0, 0, 0]\n",
    "\n"
   ]
  },
  {
   "cell_type": "markdown",
   "metadata": {},
   "source": [
    "13) В списке целых чисел найти произведение всех чисел, больших чем 10 и меньших чем 20, за исключением 13. Проверить на списке ``[2, 11, 21, 16, 7, 13, 18, 12]`` (ответ: 38016)."
   ]
  },
  {
   "cell_type": "code",
   "execution_count": 15,
   "metadata": {},
   "outputs": [
    {
     "data": {
      "text/plain": [
       "38016"
      ]
     },
     "execution_count": 15,
     "metadata": {},
     "output_type": "execute_result"
    }
   ],
   "source": [
    "lst = [2, 11, 21, 16, 7, 13, 18, 12]\n",
    "mult = 1\n",
    "\n",
    "for i in range (len(lst)):\n",
    "    if(10 < lst[i] < 20 and lst[i] != 13):\n",
    "        mult *= lst[i]\n",
    "mult"
   ]
  },
  {
   "cell_type": "markdown",
   "metadata": {},
   "source": [
    "14) Дан целочисленный список. На его основе создать новый список, в котором все отрицательные числа исходного списка заменены на их индекс, а остальные элементы сохранены на своих местах."
   ]
  },
  {
   "cell_type": "code",
   "execution_count": 14,
   "metadata": {},
   "outputs": [
    {
     "data": {
      "text/plain": [
       "[1, 1, 2, 82, 66, 5, 6, 7, 5]"
      ]
     },
     "execution_count": 14,
     "metadata": {},
     "output_type": "execute_result"
    }
   ],
   "source": [
    "lst = [1, -1, -127, 82, 66, -53, -403, -75, 5]\n",
    "lst_ed = []\n",
    "\n",
    "for i in range (len(lst)):\n",
    "    if (lst[i] < 0):\n",
    "        lst_ed.append(i)\n",
    "    else:\n",
    "        lst_ed.append(lst[i])\n",
    "lst_ed"
   ]
  },
  {
   "cell_type": "markdown",
   "metadata": {},
   "source": [
    "15) Убрать все дубликаты в списке."
   ]
  },
  {
   "cell_type": "code",
   "execution_count": null,
   "metadata": {},
   "outputs": [],
   "source": [
    "spsk = [1, 2, 2, 3, 3, 4, 3, 5, 10, 1, 0, 12]\n",
    "\n",
    "list(set(spsk))"
   ]
  },
  {
   "cell_type": "markdown",
   "metadata": {},
   "source": [
    "16) Дан список чисел. Найти элемент, следующий за минимальным в порядке возрастания («второй минимум»). Например, для списка ``lst = [1, 2, 3, 1, 2, 5, 6, 6, 7, 8]`` второй минимум - это 2."
   ]
  },
  {
   "cell_type": "code",
   "execution_count": null,
   "metadata": {},
   "outputs": [],
   "source": [
    "spsk = [1, 2, 3, 1, 2, 5, 6, 6, 7, 8]\n",
    "\n",
    "list(set(spsk))\n",
    "print(spsk[1])"
   ]
  },
  {
   "cell_type": "markdown",
   "metadata": {},
   "source": [
    "17) Заданы две заранее неизвестные строки, в которых слова разделены пробелами. Из этих двух строк составить одну новую, в которой слова из первой и второй строки будут чередоваться, при этом порядок слов будет сохранен. Если количество слов в строках различное, то закончить создание результирующей строки, как только слова в одной из исходных строк закончатся. Для преобразований использовать списки слов.\n",
    "\n",
    "Например:"
   ]
  },
  {
   "cell_type": "raw",
   "metadata": {},
   "source": [
    "s1 = 'один два три'\n",
    "s2 = 'альфа бетта гамма'\n",
    "\n",
    "result = 'один альфа два бетта три гамма'"
   ]
  },
  {
   "cell_type": "code",
   "execution_count": null,
   "metadata": {},
   "outputs": [],
   "source": [
    "s1 = input()\n",
    "s2 = input()\n",
    "ls1 = s1.split(' ')\n",
    "ls2 = s2.split(' ')\n",
    "\n",
    "k = min(len(ls1), len(ls2))\n",
    "for i in range (0, k):\n",
    "    print(ls1[i], end = ' ')\n",
    "    print(ls2[i], end = ' ')"
   ]
  },
  {
   "cell_type": "markdown",
   "metadata": {},
   "source": [
    "17.1) Решить задачу, используя функцию ``zip``."
   ]
  },
  {
   "cell_type": "code",
   "execution_count": null,
   "metadata": {},
   "outputs": [],
   "source": [
    "s1 = input()\n",
    "s2 = input()\n",
    "ls1 = s1.split(' ')\n",
    "ls2 = s2.split(' ')\n",
    "\n",
    "res = list(zip(ls1, ls2))\n",
    "for p in range (0, len(res)):\n",
    "    s = ' '.join(list(res[p]))\n",
    "    print(s, end = \" \")"
   ]
  },
  {
   "cell_type": "markdown",
   "metadata": {},
   "source": [
    "18) Выполнить циклический сдвиг слов в произвольной строке (слова разделены пробелами) на заданное пользователем число слов.  Решить с помощью списков слов.\n",
    "\n",
    "Например:"
   ]
  },
  {
   "cell_type": "raw",
   "metadata": {},
   "source": [
    "\"один два три четыре пять шесть семь\", 3 -> \"четыре пять шесть семь один два три\""
   ]
  },
  {
   "cell_type": "code",
   "execution_count": 22,
   "metadata": {},
   "outputs": [
    {
     "name": "stdout",
     "output_type": "stream",
     "text": [
      "один два три четыре пять шесть семь\n",
      "3\n"
     ]
    },
    {
     "data": {
      "text/plain": [
       "'четыре пять шесть один два три четыре'"
      ]
     },
     "execution_count": 22,
     "metadata": {},
     "output_type": "execute_result"
    }
   ],
   "source": [
    "strk = input()\n",
    "sdv = int(input())\n",
    "words = strk.split(' ')\n",
    "words = words[-sdv - 1:-1] + words[:sdv + 1]\n",
    "words = ' '.join(words)\n",
    "words"
   ]
  },
  {
   "cell_type": "markdown",
   "metadata": {},
   "source": [
    "19) В списке целых чисел из диапозона от 1 до 20 заменить все числа, не являющиеся простыми, на составляющие их простые множители (которые включаются в виде вложенного списка на место исключаемого числа). Кратные простые множетели добавлять количество раз, составляющее их кратность в исходном числе.\n",
    "\n",
    "Например:"
   ]
  },
  {
   "cell_type": "raw",
   "metadata": {},
   "source": [
    "[3, 6, 7, 12] -> [3, [2, 3], 7, [2, 2, 3]]"
   ]
  },
  {
   "cell_type": "code",
   "execution_count": null,
   "metadata": {},
   "outputs": [],
   "source": []
  }
 ],
 "metadata": {
  "kernelspec": {
   "display_name": "Python 3",
   "language": "python",
   "name": "python3"
  },
  "language_info": {
   "codemirror_mode": {
    "name": "ipython",
    "version": 3
   },
   "file_extension": ".py",
   "mimetype": "text/x-python",
   "name": "python",
   "nbconvert_exporter": "python",
   "pygments_lexer": "ipython3",
   "version": "3.7.0"
  }
 },
 "nbformat": 4,
 "nbformat_minor": 2
}
