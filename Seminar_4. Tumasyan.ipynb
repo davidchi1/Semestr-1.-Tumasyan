{
 "cells": [
  {
   "cell_type": "markdown",
   "metadata": {},
   "source": [
    "# Задания по семинару 4\n",
    "\n",
    "# Циклы"
   ]
  },
  {
   "cell_type": "markdown",
   "metadata": {},
   "source": [
    "1) Найти сумму всех четных чисел от ``0`` до ``10``."
   ]
  },
  {
   "cell_type": "code",
   "execution_count": 12,
   "metadata": {},
   "outputs": [
    {
     "name": "stdout",
     "output_type": "stream",
     "text": [
      "55\n"
     ]
    }
   ],
   "source": [
    "s = 0\n",
    "for i in range (0, 11):\n",
    "    s += i\n",
    "print (s)"
   ]
  },
  {
   "cell_type": "markdown",
   "metadata": {},
   "source": [
    "2) С помощью цикла ``for`` сравнить две произвольные строки и вывести строку, состоящую из общих символов исходных строк.\n",
    "\n",
    "Например, для строк"
   ]
  },
  {
   "cell_type": "raw",
   "metadata": {},
   "source": [
    "st1 = 'hello world'\n",
    "st2 = 'second string'"
   ]
  },
  {
   "cell_type": "markdown",
   "metadata": {},
   "source": [
    "ответом служит строка ``\"eo dsderic ord\"``."
   ]
  },
  {
   "cell_type": "code",
   "execution_count": 1,
   "metadata": {},
   "outputs": [
    {
     "name": "stdout",
     "output_type": "stream",
     "text": [
      "hello world\n",
      "second string\n",
      "eo ord"
     ]
    }
   ],
   "source": [
    "tox1 = input()\n",
    "tox2 = input()\n",
    "\n",
    "for i in tox1:\n",
    "    for j in tox2:\n",
    "        if i == j:\n",
    "            print(i, end = \"\")"
   ]
  },
  {
   "cell_type": "markdown",
   "metadata": {},
   "source": [
    "3) С помощью цикла ``while`` рассчитать **двойной факториал** для произвольного числа, введенного пользователем.\n",
    "\n",
    "Двойной факториал ``n!!`` числа ``n `` рассчитывается как произведение всех чисел, меньших исходного на числа, кратные двум (вплоть до 1 или 2). Например: ``7!! = 7 * 5 * 3 * 1 = 105``"
   ]
  },
  {
   "cell_type": "code",
   "execution_count": 1,
   "metadata": {},
   "outputs": [
    {
     "name": "stdout",
     "output_type": "stream",
     "text": [
      "7\n",
      "105\n"
     ]
    }
   ],
   "source": [
    "n = int(input())\n",
    "double_fact = 1\n",
    "\n",
    "while(n != 0 and n != -1):\n",
    "    double_fact *= n\n",
    "    n -= 2\n",
    "print(double_fact)"
   ]
  },
  {
   "cell_type": "markdown",
   "metadata": {},
   "source": [
    "4) Решить задачу 3) с помощью цикла ``for``."
   ]
  },
  {
   "cell_type": "code",
   "execution_count": 4,
   "metadata": {},
   "outputs": [
    {
     "name": "stdout",
     "output_type": "stream",
     "text": [
      "4\n",
      "8\n"
     ]
    }
   ],
   "source": [
    "n = int(input())\n",
    "double_fact = 1\n",
    "\n",
    "for i in range (n, 0, -2):\n",
    "    double_fact *= n\n",
    "    n -= 2\n",
    "print(double_fact)"
   ]
  },
  {
   "cell_type": "markdown",
   "metadata": {},
   "source": [
    "5) Вывести все простые числа в произвольном интервале ``[a, b]``, используя вложенные ``for`` и конструкцию ``for-else``."
   ]
  },
  {
   "cell_type": "markdown",
   "metadata": {},
   "source": [
    "Алгоритм:\n",
    "\n",
    "Дан интервал ``[a, b]``.\n",
    "\n",
    "1. Обходим все числа от ``a`` до ``b`` (``i``).\n",
    "2. Обходим все числа, начиная с двух и заканчивая текущим проверяемым числом ``i`` (не включая) (``j``).\n",
    "3. Проверяем, делиться ли проверяемое число ``i`` на ``j`` без остатка.\n",
    "4. Если делиться, то проверяемое число **не простое**.\n",
    "5. Если не делиться (остаток больше нуля), то надо проверить следующее ``j``.\n",
    "6. Если все ``j`` проверены и для всех при делении остаток был больше нуля, то число ``i`` **простое**."
   ]
  },
  {
   "cell_type": "code",
   "execution_count": null,
   "metadata": {},
   "outputs": [],
   "source": [
    "a = int(input())\n",
    "b = int(input())\n",
    "\n"
   ]
  },
  {
   "cell_type": "markdown",
   "metadata": {},
   "source": [
    "6) Реализовать проверку вводимого пользователем значения: предлагать ввод до тех пор, пока не будет введена непустая строка. \n",
    "\n",
    "Если введено ``STOP``, выводить сообщение \"Program interrupted by user\".\n",
    "\n",
    "Если введенная строка в лексиграфическом порядке стоит перед строчными латинскими символами, выводить предупреждение \"Too early in the dictionary. Try again!\" и предлагать ввод снова.\n",
    "\n",
    "Иначе выводить отформатированную исходную строку с заполнителем \"\\_\" и шириной 30 символов с выравниванием посередине."
   ]
  },
  {
   "cell_type": "code",
   "execution_count": 11,
   "metadata": {},
   "outputs": [
    {
     "name": "stdout",
     "output_type": "stream",
     "text": [
      "\n",
      "\n",
      "Too early in the dictionary. Try again!\n",
      "\n",
      "Too early in the dictionary. Try again!\n",
      "sopgjkopsg\n",
      "__________sopgjkopsg__________\n"
     ]
    }
   ],
   "source": [
    "s = input()\n",
    "if (s != ''):\n",
    "    if (s == 'STOP'):\n",
    "        print('Program interrupted by user')\n",
    "    elif(s < 'abcdefghijklmnopqrstuvwxyz'):\n",
    "        print('Too early in the dictionary. Try again!')\n",
    "    else:\n",
    "        print(\"{0:_^30}\".format(s, ))\n",
    "else: \n",
    "    while(s == ''):\n",
    "        s = input()\n",
    "        if (s == 'STOP'):\n",
    "            print('Program interrupted by user')\n",
    "        elif(s < 'abcdefghijklmnopqrstuvwxyz'):\n",
    "            print('Too early in the dictionary. Try again!')\n",
    "        else:\n",
    "            print(\"{0:_^30}\".format(s, ))"
   ]
  },
  {
   "cell_type": "markdown",
   "metadata": {},
   "source": [
    "7) Для произвольной строки вывести те символы, номера которых в строке (не индексы!) делят длину строки без остатка.\n",
    "\n",
    "Например, для строки ``\"Hello world!\"`` должно выводиться ``\"Hell !\"``."
   ]
  },
  {
   "cell_type": "code",
   "execution_count": 6,
   "metadata": {},
   "outputs": [
    {
     "name": "stdout",
     "output_type": "stream",
     "text": [
      "Hello world!\n",
      "Hell !"
     ]
    }
   ],
   "source": [
    "strk = input()\n",
    "k = 1\n",
    "\n",
    "for i in strk:\n",
    "    if len(strk) % k == 0:\n",
    "        print(strk[k - 1], end = \"\")\n",
    "    k += 1"
   ]
  },
  {
   "cell_type": "markdown",
   "metadata": {},
   "source": [
    "8) Даны две произвольные строки. Для всех символов первой строки, которые встречаются во второй строке (без учета регистра), вывести строку"
   ]
  },
  {
   "cell_type": "raw",
   "metadata": {},
   "source": [
    "\"<номер_символа_в_первой_строке> встречается в строке поиска: <второе_слово>\""
   ]
  },
  {
   "cell_type": "markdown",
   "metadata": {},
   "source": [
    ", причем ``<второе_слово>`` выводить в нижнем регистре с найденным символом в верхнем регистре.\n",
    "\n",
    "Например, для следующих строк"
   ]
  },
  {
   "cell_type": "raw",
   "metadata": {},
   "source": [
    "string1 = \"Hello world!\"\n",
    "string2 = 'HERD'"
   ]
  },
  {
   "cell_type": "markdown",
   "metadata": {},
   "source": [
    "результат должен быть следующим:"
   ]
  },
  {
   "cell_type": "raw",
   "metadata": {},
   "source": [
    "1 символ встречается в строке поиска: Herd\n",
    "2 символ встречается в строке поиска: hErd\n",
    "9 символ встречается в строке поиска: heRd\n",
    "11 символ встречается в строке поиска: herD"
   ]
  },
  {
   "cell_type": "code",
   "execution_count": 22,
   "metadata": {},
   "outputs": [
    {
     "name": "stdout",
     "output_type": "stream",
     "text": [
      "Hello world!\n",
      "HERD\n",
      "1 символ встречается в строке поиска: H\n",
      "2 символ встречается в строке поиска: H\n",
      "9 символ встречается в строке поиска: H\n",
      "11 символ встречается в строке поиска: H\n"
     ]
    }
   ],
   "source": [
    "def uppering(k, string):\n",
    "    for i in string:\n",
    "        if (k.upper() == i.upper()):\n",
    "            return i.upper()\n",
    "        else:\n",
    "            return i\n",
    "        \n",
    "\n",
    "stroka1 = input()\n",
    "stroka2 = input()\n",
    "\n",
    "for ind1, sym1 in enumerate(stroka1):\n",
    "        if (sym1.upper() in stroka2.upper()):\n",
    "            l = sym1.upper()\n",
    "            print(\"{0} символ встречается в строке поиска: {1}\".format(ind1 + 1, uppering(l, stroka2)))"
   ]
  },
  {
   "cell_type": "markdown",
   "metadata": {},
   "source": [
    "9) С помощью функции ``enumerate()`` вместо каждого символа произвольной строки выводить индекс первого вхождения этого символа в другую строку. Если в другой строке таких символов нет, оставлять исходный символ.\n",
    "\n",
    "Например, вместо исходной строки ``\"Hello world!\"`` при значении второй строки ``\"low\"`` должно выводиться ``\"He001 21r0d!\"``."
   ]
  },
  {
   "cell_type": "code",
   "execution_count": null,
   "metadata": {},
   "outputs": [],
   "source": [
    "strk1 = input()\n",
    "strk2 = input()\n",
    "\n",
    "for ind, symb in enumerate(strk2):\n",
    "    "
   ]
  },
  {
   "cell_type": "markdown",
   "metadata": {
    "collapsed": true
   },
   "source": [
    "11) С помощью цикла ``for`` вывести на экран следующую конструкцию:"
   ]
  },
  {
   "cell_type": "raw",
   "metadata": {},
   "source": [
    "1-----99\n",
    "2-----98\n",
    "3-----97\n",
    "...\n",
    "...\n",
    "...\n",
    "98-----2\n",
    "99-----1"
   ]
  },
  {
   "cell_type": "code",
   "execution_count": 25,
   "metadata": {},
   "outputs": [
    {
     "name": "stdout",
     "output_type": "stream",
     "text": [
      "1-----99\n",
      "2-----98\n",
      "3-----97\n",
      "4-----96\n",
      "5-----95\n",
      "6-----94\n",
      "7-----93\n",
      "8-----92\n",
      "9-----91\n",
      "10-----90\n",
      "11-----89\n",
      "12-----88\n",
      "13-----87\n",
      "14-----86\n",
      "15-----85\n",
      "16-----84\n",
      "17-----83\n",
      "18-----82\n",
      "19-----81\n",
      "20-----80\n",
      "21-----79\n",
      "22-----78\n",
      "23-----77\n",
      "24-----76\n",
      "25-----75\n",
      "26-----74\n",
      "27-----73\n",
      "28-----72\n",
      "29-----71\n",
      "30-----70\n",
      "31-----69\n",
      "32-----68\n",
      "33-----67\n",
      "34-----66\n",
      "35-----65\n",
      "36-----64\n",
      "37-----63\n",
      "38-----62\n",
      "39-----61\n",
      "40-----60\n",
      "41-----59\n",
      "42-----58\n",
      "43-----57\n",
      "44-----56\n",
      "45-----55\n",
      "46-----54\n",
      "47-----53\n",
      "48-----52\n",
      "49-----51\n",
      "50-----50\n",
      "51-----49\n",
      "52-----48\n",
      "53-----47\n",
      "54-----46\n",
      "55-----45\n",
      "56-----44\n",
      "57-----43\n",
      "58-----42\n",
      "59-----41\n",
      "60-----40\n",
      "61-----39\n",
      "62-----38\n",
      "63-----37\n",
      "64-----36\n",
      "65-----35\n",
      "66-----34\n",
      "67-----33\n",
      "68-----32\n",
      "69-----31\n",
      "70-----30\n",
      "71-----29\n",
      "72-----28\n",
      "73-----27\n",
      "74-----26\n",
      "75-----25\n",
      "76-----24\n",
      "77-----23\n",
      "78-----22\n",
      "79-----21\n",
      "80-----20\n",
      "81-----19\n",
      "82-----18\n",
      "83-----17\n",
      "84-----16\n",
      "85-----15\n",
      "86-----14\n",
      "87-----13\n",
      "88-----12\n",
      "89-----11\n",
      "90-----10\n",
      "91-----9\n",
      "92-----8\n",
      "93-----7\n",
      "94-----6\n",
      "95-----5\n",
      "96-----4\n",
      "97-----3\n",
      "98-----2\n",
      "99-----1\n"
     ]
    }
   ],
   "source": [
    "for i in range (1, 100):\n",
    "    print(str(i) + '-----' + str(100 - i))"
   ]
  },
  {
   "cell_type": "markdown",
   "metadata": {},
   "source": [
    "12) Напишите программу, которая выводит числа от 1 до 50 (включительно). Если число делится на 3, выведите ``\"Fizz\"`` вместо числа. Если оно делится на 5, выведите ``\"Buzz\"``. Если оно делится как на 3, так и 5, выведите ``\"FizzBuzz\"``."
   ]
  },
  {
   "cell_type": "code",
   "execution_count": 9,
   "metadata": {},
   "outputs": [
    {
     "name": "stdout",
     "output_type": "stream",
     "text": [
      "1\n",
      "2\n",
      "Fizz\n",
      "4\n",
      "Buzz\n",
      "Fizz\n",
      "7\n",
      "8\n",
      "Fizz\n",
      "Buzz\n",
      "11\n",
      "Fizz\n",
      "13\n",
      "14\n",
      "FizzBuzz\n",
      "16\n",
      "17\n",
      "Fizz\n",
      "19\n",
      "Buzz\n",
      "Fizz\n",
      "22\n",
      "23\n",
      "Fizz\n",
      "Buzz\n",
      "26\n",
      "Fizz\n",
      "28\n",
      "29\n",
      "FizzBuzz\n",
      "31\n",
      "32\n",
      "Fizz\n",
      "34\n",
      "Buzz\n",
      "Fizz\n",
      "37\n",
      "38\n",
      "Fizz\n",
      "Buzz\n",
      "41\n",
      "Fizz\n",
      "43\n",
      "44\n",
      "FizzBuzz\n",
      "46\n",
      "47\n",
      "Fizz\n",
      "49\n",
      "Buzz\n"
     ]
    }
   ],
   "source": [
    "for i in range (1, 51):\n",
    "    if (i % 3 == 0 and not i % 5 == 0):\n",
    "        print('Fizz')\n",
    "    elif(i % 5 == 0 and not i % 3 == 0):\n",
    "        print('Buzz')\n",
    "    elif(i % 3 == 0 and i % 5 == 0):\n",
    "        print('FizzBuzz')\n",
    "    else:\n",
    "        print(i)"
   ]
  },
  {
   "cell_type": "markdown",
   "metadata": {},
   "source": [
    "13) Посчитайте, сколько цифр и букв (по отдельности) в введенной пользователем строке."
   ]
  },
  {
   "cell_type": "code",
   "execution_count": 5,
   "metadata": {},
   "outputs": [
    {
     "name": "stdout",
     "output_type": "stream",
     "text": [
      "pfbje90to4jj340i\n",
      "Всего букаф: 10\n",
      "Всего цифор: 6\n"
     ]
    }
   ],
   "source": [
    "bukov = 0\n",
    "tsyfor = 0\n",
    "strk = input()\n",
    "\n",
    "for i in strk:\n",
    "    if i.isalpha():\n",
    "        bukov += 1\n",
    "    elif i.isdigit():\n",
    "        tsyfor += 1\n",
    "print('Всего букаф: ' + str(bukov))\n",
    "print('Всего цифор: ' + str(tsyfor))"
   ]
  },
  {
   "cell_type": "markdown",
   "metadata": {},
   "source": [
    "14) Проверьте надежность пароля, введенного пользователем. Запрашивать ввод до тех пор, пока пользователь не введет надежный пароль.\n",
    "\n",
    "Пароль считается надежным, если он содержит хотя бы\n",
    "\n",
    "- одну прописную букву ``[a-z]`` и одну заглавную букву ``[A-Z]``;\n",
    "- одну цифру ``[0-9]``;\n",
    "- один символ из ``[$#@]``.\n",
    "\n",
    "Также минимальная длина пароля должна составлять 6 символов, а максимальная - 16."
   ]
  },
  {
   "cell_type": "code",
   "execution_count": 28,
   "metadata": {},
   "outputs": [
    {
     "name": "stdout",
     "output_type": "stream",
     "text": [
      "iofgwgjwrg\n",
      "The password is not safe enough! :( Try again.\n"
     ]
    }
   ],
   "source": [
    "password = input()\n",
    "bukvy = 0\n",
    "bbukvy = 0\n",
    "digits = 0\n",
    "symb = 0\n",
    "\n",
    "\n",
    "if (len(password) <= 16 and len(password) >= 6):\n",
    "    for i in password:\n",
    "        if i.isalpha():\n",
    "            if i.islower():\n",
    "                bukvy += 1\n",
    "            if i.isupper():\n",
    "                bbukvy +=1\n",
    "        if i.isdigit():\n",
    "            digits += 1\n",
    "        if i=='$' or i=='@' or i =='#':\n",
    "            symb += 1\n",
    "elif len(password)<=6:\n",
    "    print('Password is too short! :( Try again.')\n",
    "elif len(password)>=16:\n",
    "    print('Password is too long! :( Try again.')\n",
    "if(bukvy >= 1 and bbukvy >= 1 and digits >= 1 and symb >= 1):\n",
    "    print('The passworsd is safe! :)')\n",
    "else:\n",
    "    print('The password is not safe enough! :( Try again.')"
   ]
  },
  {
   "cell_type": "markdown",
   "metadata": {},
   "source": [
    "15) С помощью цикла (вложенные циклы использовать запрещено!) вывести на экран следующую конструкцию:"
   ]
  },
  {
   "cell_type": "raw",
   "metadata": {},
   "source": [
    "1\n",
    "22\n",
    "333\n",
    "4444\n",
    "55555\n",
    "666666\n",
    "7777777\n",
    "88888888\n",
    "999999999"
   ]
  },
  {
   "cell_type": "code",
   "execution_count": 11,
   "metadata": {},
   "outputs": [
    {
     "name": "stdout",
     "output_type": "stream",
     "text": [
      "1\n",
      "22\n",
      "333\n",
      "4444\n",
      "55555\n",
      "666666\n",
      "7777777\n",
      "88888888\n",
      "999999999\n"
     ]
    }
   ],
   "source": [
    "strk = '123456789'\n",
    "k = 1\n",
    "\n",
    "for i in strk:\n",
    "    print(k * strk[k - 1])\n",
    "    k += 1"
   ]
  },
  {
   "cell_type": "code",
   "execution_count": null,
   "metadata": {},
   "outputs": [],
   "source": []
  }
 ],
 "metadata": {
  "kernelspec": {
   "display_name": "Python 3",
   "language": "python",
   "name": "python3"
  },
  "language_info": {
   "codemirror_mode": {
    "name": "ipython",
    "version": 3
   },
   "file_extension": ".py",
   "mimetype": "text/x-python",
   "name": "python",
   "nbconvert_exporter": "python",
   "pygments_lexer": "ipython3",
   "version": "3.7.0"
  }
 },
 "nbformat": 4,
 "nbformat_minor": 2
}
