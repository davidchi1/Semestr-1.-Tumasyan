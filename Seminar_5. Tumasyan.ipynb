{
 "cells": [
  {
   "cell_type": "markdown",
   "metadata": {},
   "source": [
    "# Задания по семинару 5\n",
    "\n",
    "# Регулярные выражения"
   ]
  },
  {
   "cell_type": "code",
   "execution_count": null,
   "metadata": {},
   "outputs": [],
   "source": []
  },
  {
   "cell_type": "code",
   "execution_count": 1,
   "metadata": {
    "collapsed": true
   },
   "outputs": [],
   "source": [
    "import re\n"
   ]
  },
  {
   "cell_type": "markdown",
   "metadata": {},
   "source": [
    "1) Дана строка"
   ]
  },
  {
   "cell_type": "raw",
   "metadata": {},
   "source": [
    "aaa--bbb==ccc__ddd"
   ]
  },
  {
   "cell_type": "markdown",
   "metadata": {},
   "source": [
    "Написать регулярное выражение для разбивки этой строки на список `['aaa','bbb','ccc','ddd']`."
   ]
  },
  {
   "cell_type": "code",
   "execution_count": 13,
   "metadata": {},
   "outputs": [
    {
     "name": "stdout",
     "output_type": "stream",
     "text": [
      "['aaa', 'bbb', 'ccc', 'ddd']\n"
     ]
    }
   ],
   "source": [
    "import re\n",
    "\n",
    "stroka = 'aaa--bbb==ccc__ddd'\n",
    "template = r\"[a-z]+\"\n",
    "s = re.findall(template, stroka)\n",
    "print(s)"
   ]
  },
  {
   "cell_type": "markdown",
   "metadata": {},
   "source": [
    "2) Получить первое слово из произвольной строки.\n",
    "\n",
    "Например, для `'Yesterday, All my troubles seemed so far away'` должно возвращаться `'Yesterday'`."
   ]
  },
  {
   "cell_type": "code",
   "execution_count": 18,
   "metadata": {},
   "outputs": [
    {
     "name": "stdout",
     "output_type": "stream",
     "text": [
      "[',', ' ', ' ', ' ', ' ', ' ', ' ', ' ']\n"
     ]
    }
   ],
   "source": [
    "import re\n",
    "\n",
    "text = 'Yesterday, All my troubles seemed so far away'\n",
    "template = r\"[\\W^_]\"\n",
    "fword = re.findall(template, text)\n",
    "print(fword)"
   ]
  },
  {
   "cell_type": "markdown",
   "metadata": {},
   "source": [
    "3) Получить последнее слово из произвольной строки."
   ]
  },
  {
   "cell_type": "code",
   "execution_count": 66,
   "metadata": {},
   "outputs": [
    {
     "data": {
      "text/plain": [
       "'away'"
      ]
     },
     "execution_count": 66,
     "metadata": {},
     "output_type": "execute_result"
    }
   ],
   "source": [
    "\n",
    "import re\n",
    "text = 'Yesterday, All my troubles seemed so far away'\n",
    "text[40:44]"
   ]
  },
  {
   "cell_type": "markdown",
   "metadata": {},
   "source": [
    "4) В следующем отрывке найти все слова, которые начинаются на гласную букву:"
   ]
  },
  {
   "cell_type": "code",
   "execution_count": 85,
   "metadata": {},
   "outputs": [],
   "source": [
    "text = '''My uncle -- high ideals inspire him;\n",
    "but when past joking he fell sick,\n",
    "he really forced one to admire him --\n",
    "and never played a shrewder trick.\n",
    "Let others learn from his example!\n",
    "But God, how deadly dull to sample\n",
    "sickroom attendance night and day\n",
    "and never stir a foot away!'''"
   ]
  },
  {
   "cell_type": "code",
   "execution_count": 9,
   "metadata": {},
   "outputs": [
    {
     "name": "stdout",
     "output_type": "stream",
     "text": [
      "['uncle', 'ideals', 'inspire', 'one', 'admire', 'and', 'others', 'example', 'attendance', 'and', 'and', 'away']\n"
     ]
    }
   ],
   "source": [
    "import re\n",
    "\n",
    "text = '''My uncle -- high ideals inspire him;\n",
    "but when past joking he fell sick,\n",
    "he really forced one to admire him --\n",
    "and never played a shrewder trick.\n",
    "Let others learn from his example!\n",
    "But God, how deadly dull to sample\n",
    "sickroom attendance night and day\n",
    "and never stir a foot away!'''\n",
    "vowel = re.findall(r'\\b[aeiou]\\w+', text)\n",
    "print(vowel)\n"
   ]
  },
  {
   "cell_type": "markdown",
   "metadata": {},
   "source": [
    "5) В отрывке из задания 4) найти первое слово каждой строки."
   ]
  },
  {
   "cell_type": "code",
   "execution_count": 11,
   "metadata": {},
   "outputs": [
    {
     "name": "stdout",
     "output_type": "stream",
     "text": [
      "['My', 'but', 'he', 'and', 'Let', 'But', 'sickroom', 'and']\n"
     ]
    }
   ],
   "source": [
    "import re\n",
    "\n",
    "text = '''My uncle -- high ideals inspire him;\n",
    "but when past joking he fell sick,\n",
    "he really forced one to admire him --\n",
    "and never played a shrewder trick.\n",
    "Let others learn from his example!\n",
    "But God, how deadly dull to sample\n",
    "sickroom attendance night and day\n",
    "and never stir a foot away!'''\n",
    "stroki = text.splitlines()\n",
    "fword = []\n",
    "for i in stroki :\n",
    "    fword.append(i.split(' ')[0])\n",
    "print(fword)\n"
   ]
  },
  {
   "cell_type": "markdown",
   "metadata": {},
   "source": [
    "6) Проверить корректность введенного email.\n",
    "\n",
    "Считать email корректным, у которого в имени почтового ящика не более 25 латинских букв или цифр, а доменная часть состоит из двух доменов, разделеных точкой. В домене верхнего уровня от 2 до 6 латинских символов, а в домене второго уровня - от 3 до 10 латинских символов."
   ]
  },
  {
   "cell_type": "code",
   "execution_count": 4,
   "metadata": {
    "scrolled": true
   },
   "outputs": [
    {
     "name": "stdout",
     "output_type": "stream",
     "text": [
      "Введите email: sobakakusaka@dog.ru\n",
      "No\n"
     ]
    }
   ],
   "source": [
    "import re\n",
    "\n",
    "email = input(\"Введите email: \")\n",
    "b = True\n",
    "\n",
    "if (len(email) < 26):\n",
    "    email = email.split('@')\n",
    "else:\n",
    "    b = False\n",
    "email[1] = email[1].split('.')\n",
    "if (b and 1 < len(email[1][0]) < 7 and 2 < len(email[1][1]) < 11):\n",
    "    print('Yes')\n",
    "else:\n",
    "    print('No')\n",
    "        "
   ]
  },
  {
   "cell_type": "markdown",
   "metadata": {},
   "source": [
    "7) В следующей строке найти все email-адреса и вывести только доменные имена. Описание того, что считается корректным электронным адресом, взять из задания 6)."
   ]
  },
  {
   "cell_type": "code",
   "execution_count": 6,
   "metadata": {},
   "outputs": [
    {
     "name": "stdout",
     "output_type": "stream",
     "text": [
      "test.ru\n",
      "mail.com\n",
      "mail.ru\n"
     ]
    }
   ],
   "source": [
    "import re \n",
    "\n",
    "s = ['test@test.ru', 'ru.wikipedia.org', 'mail@mail.com', 'ref', '123456789_adfasfd@mail.ru']\n",
    "lst = []\n",
    "for i in s:\n",
    "    if '@' in i:\n",
    "        print(i.split('@')[1])\n",
    "\n",
    "\n",
    "\n",
    "    "
   ]
  },
  {
   "cell_type": "markdown",
   "metadata": {},
   "source": [
    "8) Проверить корректность введенного номера мобильного телефона. Корректными номерами считаются:"
   ]
  },
  {
   "cell_type": "raw",
   "metadata": {},
   "source": [
    "+7(999)999-99-99\n",
    "+7 (999) 999-99-99\n",
    "+7 999 999-99-99\n",
    "+7 999 999 99 99\n",
    "+79999999999"
   ]
  },
  {
   "cell_type": "code",
   "execution_count": 14,
   "metadata": {},
   "outputs": [
    {
     "name": "stdout",
     "output_type": "stream",
     "text": [
      "Введите номер: +7999999995\n",
      "Incorrect phone number! Try again.\n"
     ]
    }
   ],
   "source": [
    "import re \n",
    "\n",
    "teleph = ['+7 (999)999-99-99', '+7 (999) 999-99-99', '+7 999 999-99-99', '+7 999 999 99 99', '+79999999999' ]\n",
    "s = input('Введите номер: ')\n",
    "if s in teleph:\n",
    "    print('Correct phone number.')\n",
    "else:\n",
    "    print('Incorrect phone number! Try again.')"
   ]
  },
  {
   "cell_type": "code",
   "execution_count": null,
   "metadata": {},
   "outputs": [],
   "source": []
  }
 ],
 "metadata": {
  "kernelspec": {
   "display_name": "Python 3",
   "language": "python",
   "name": "python3"
  },
  "language_info": {
   "codemirror_mode": {
    "name": "ipython",
    "version": 3
   },
   "file_extension": ".py",
   "mimetype": "text/x-python",
   "name": "python",
   "nbconvert_exporter": "python",
   "pygments_lexer": "ipython3",
   "version": "3.7.0"
  }
 },
 "nbformat": 4,
 "nbformat_minor": 2
}
