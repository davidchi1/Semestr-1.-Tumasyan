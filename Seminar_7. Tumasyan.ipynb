{
 "cells": [
  {
   "cell_type": "markdown",
   "metadata": {},
   "source": [
    "# Задания по семинару 7\n",
    "\n",
    "# Словари и множества"
   ]
  },
  {
   "cell_type": "markdown",
   "metadata": {},
   "source": [
    "1) На основе переданной строки (не содержащей повторяющихся символов) создать словарь, в котором каждому символу строки будет соответствовать его номер в строке. Например:"
   ]
  },
  {
   "cell_type": "raw",
   "metadata": {},
   "source": [
    "'abcd' -> {'a': 1, 'b': 2, 'c': 3, 'd': 4}"
   ]
  },
  {
   "cell_type": "code",
   "execution_count": 56,
   "metadata": {},
   "outputs": [
    {
     "name": "stdout",
     "output_type": "stream",
     "text": [
      "abcd\n",
      "abcd -> {'a': 1, 'b': 2, 'c': 3, 'd': 4}\n"
     ]
    }
   ],
   "source": [
    "strk = input()\n",
    "dict_s = {}\n",
    "\n",
    "for ind, symb in enumerate(strk):\n",
    "    dict_temp = {symb: ind + 1}\n",
    "    dict_s.update(dict_temp)\n",
    "print(strk, '->', dict_s)"
   ]
  },
  {
   "cell_type": "markdown",
   "metadata": {},
   "source": [
    "2) Определить, сколько элементов из заданного списка являются ключами в словаре. Например, для"
   ]
  },
  {
   "cell_type": "raw",
   "metadata": {},
   "source": [
    "lst = ['a', 'c', 'e', 'g', 'i']\n",
    "d = {'a': 1, 'b': 2, 'c': 3, 'd': 4}"
   ]
  },
  {
   "cell_type": "markdown",
   "metadata": {},
   "source": [
    "ответ: 2."
   ]
  },
  {
   "cell_type": "code",
   "execution_count": 5,
   "metadata": {},
   "outputs": [
    {
     "name": "stdout",
     "output_type": "stream",
     "text": [
      "ответ: 2\n"
     ]
    }
   ],
   "source": [
    "lst = ['a', 'c', 'e', 'g', 'i']\n",
    "sl = {'a': 1, 'b': 2, 'c': 3, 'd': 4}\n",
    "k = 0\n",
    "\n",
    "for i in lst:  \n",
    "    if(sl.get(i, 0) == 0):\n",
    "        continue\n",
    "    else:\n",
    "        k += 1\n",
    "print(\"ответ: \" + str(k))"
   ]
  },
  {
   "cell_type": "markdown",
   "metadata": {},
   "source": [
    "3) Для строки ``evgene_o`` создать словарь, где для всех символов, встречающихся в строке хранится число: сколько раз символ встретился в строке ``evgene_o``."
   ]
  },
  {
   "cell_type": "code",
   "execution_count": 19,
   "metadata": {},
   "outputs": [
    {
     "name": "stdout",
     "output_type": "stream",
     "text": [
      "Найдено всего:\n",
      "\n",
      "M - 1\n",
      "y - 19\n",
      "  - 294\n",
      "u - 22\n",
      "n - 51\n",
      "c - 13\n",
      "l - 47\n",
      "e - 102\n",
      "- - 9\n",
      "h - 51\n",
      "i - 48\n",
      "g - 15\n",
      "d - 41\n",
      "a - 52\n",
      "s - 42\n",
      "p - 8\n",
      "r - 47\n",
      "m - 20\n",
      "; - 1\n",
      "\n",
      " - 28\n",
      "b - 10\n",
      "t - 61\n",
      "w - 17\n",
      "j - 2\n",
      "o - 55\n",
      "k - 9\n",
      "f - 16\n",
      ", - 16\n",
      "v - 6\n",
      ". - 5\n",
      "L - 2\n",
      "x - 1\n",
      "! - 3\n",
      "B - 1\n",
      "G - 1\n",
      "A - 1\n",
      ": - 4\n",
      "W - 1\n",
      "? - 1\n",
      "S - 1\n",
      "' - 4\n",
      "Z - 1\n",
      "F - 1\n",
      "R - 1\n",
      "q - 1\n",
      "O - 1\n",
      "N - 2\n",
      "I - 3\n",
      "T - 1\n"
     ]
    }
   ],
   "source": [
    "evgene_o = \"\"\"My uncle -- high ideals inspire him;\n",
    "     but when past joking he fell sick,\n",
    "     he really forced one to admire him --\n",
    "     and never played a shrewder trick.\n",
    "     Let others learn from his example!\n",
    "     But God, how deadly dull to sample\n",
    "     sickroom attendance night and day\n",
    "     and never stir a foot away!\n",
    "     And the sly baseness, fit to throttle,\n",
    "     of entertaining the half-dead:\n",
    "     one smoothes the pillows down in bed,\n",
    "     and glumly serves the medicine bottle,\n",
    "     and sighs, and asks oneself all through:\n",
    "     When will the devil come for you?\n",
    "     \n",
    "     Such were a young rake's meditations --\n",
    "     by will of Zeus, the high and just,\n",
    "     the legatee of his relations --\n",
    "     as horses whirled him through the dust.\n",
    "     Friends of my Ruslan and Lyudmila,\n",
    "     without preliminary feeler\n",
    "     let me acquaint you on the nail\n",
    "     with this the hero of my tale:\n",
    "     Onegin, my good friend, was littered\n",
    "     and bred upon the Neva's brink,\n",
    "     where you were born as well, I think,\n",
    "     reader, or where you've shone and glittered!\n",
    "     There once I too strolled back and forth:\n",
    "     but I'm allergic to the North...\"\"\"\n",
    "\n",
    "dict_eo = {}\n",
    "for i, symb in enumerate(evgene_o):\n",
    "    if(symb in dict_eo):\n",
    "         dict_eo[symb] += 1\n",
    "    else:\n",
    "        dict_temp = {symb: 1}\n",
    "        dict_eo.update(dict_temp)\n",
    "print('Найдено всего:\\n')\n",
    "for k in dict_eo.keys():\n",
    "    print(k, '-', dict_eo[k])"
   ]
  },
  {
   "cell_type": "markdown",
   "metadata": {},
   "source": [
    "4) Используя словарь, полученный в задаче 3), посчитать количество строчных букв в строке ``evgene_o``."
   ]
  },
  {
   "cell_type": "code",
   "execution_count": 22,
   "metadata": {},
   "outputs": [
    {
     "name": "stdout",
     "output_type": "stream",
     "text": [
      "Найдено всего строчных букв: 756\n"
     ]
    }
   ],
   "source": [
    "evgene_o = \"\"\"My uncle -- high ideals inspire him;\n",
    "     but when past joking he fell sick,\n",
    "     he really forced one to admire him --\n",
    "     and never played a shrewder trick.\n",
    "     Let others learn from his example!\n",
    "     But God, how deadly dull to sample\n",
    "     sickroom attendance night and day\n",
    "     and never stir a foot away!\n",
    "     And the sly baseness, fit to throttle,\n",
    "     of entertaining the half-dead:\n",
    "     one smoothes the pillows down in bed,\n",
    "     and glumly serves the medicine bottle,\n",
    "     and sighs, and asks oneself all through:\n",
    "     When will the devil come for you?\n",
    "     \n",
    "     Such were a young rake's meditations --\n",
    "     by will of Zeus, the high and just,\n",
    "     the legatee of his relations --\n",
    "     as horses whirled him through the dust.\n",
    "     Friends of my Ruslan and Lyudmila,\n",
    "     without preliminary feeler\n",
    "     let me acquaint you on the nail\n",
    "     with this the hero of my tale:\n",
    "     Onegin, my good friend, was littered\n",
    "     and bred upon the Neva's brink,\n",
    "     where you were born as well, I think,\n",
    "     reader, or where you've shone and glittered!\n",
    "     There once I too strolled back and forth:\n",
    "     but I'm allergic to the North...\"\"\"\n",
    "\n",
    "dict_eo = {}\n",
    "for i, symb in enumerate(evgene_o):\n",
    "    if(symb in dict_eo):\n",
    "         dict_eo[symb] += 1\n",
    "    else:\n",
    "        dict_temp = {symb: 1}\n",
    "        dict_eo.update(dict_temp)\n",
    "cnt = 0        \n",
    "for k in dict_eo.keys():\n",
    "    if(k.islower()):\n",
    "        cnt += dict_eo[k]\n",
    "print('Найдено всего строчных букв:', cnt)"
   ]
  },
  {
   "cell_type": "markdown",
   "metadata": {},
   "source": [
    "5) Даны словари ``dict1``, ``dict2``, ``dict3``."
   ]
  },
  {
   "cell_type": "code",
   "execution_count": null,
   "metadata": {
    "collapsed": true
   },
   "outputs": [],
   "source": [
    "dict1 = {1: 10, 2: 20}\n",
    "dict2 = {3: 30, 4: 40}\n",
    "dict3 = {5: 50, 6: 60}"
   ]
  },
  {
   "cell_type": "markdown",
   "metadata": {},
   "source": [
    "Создать новый словарь с именем ``dict4``, содержащий все пары ключ-значение из словарей ``dict1``, ``dict2``, ``dict3``."
   ]
  },
  {
   "cell_type": "code",
   "execution_count": 22,
   "metadata": {},
   "outputs": [
    {
     "name": "stdout",
     "output_type": "stream",
     "text": [
      "{1: 10, 2: 20, 3: 30, 4: 40, 5: 50, 6: 60}\n"
     ]
    }
   ],
   "source": [
    "dict1 = {1: 10, 2: 20}\n",
    "dict2 = {3: 30, 4: 40}\n",
    "dict3 = {5: 50, 6: 60}\n",
    "dict2.update(dict3)\n",
    "dict1.update(dict2)\n",
    "dict4 = dict1\n",
    "print(dict4)"
   ]
  },
  {
   "cell_type": "markdown",
   "metadata": {},
   "source": [
    "6) Просуммировать все значения из словаря ``dict4``, полученного в задаче 5)."
   ]
  },
  {
   "cell_type": "code",
   "execution_count": 31,
   "metadata": {},
   "outputs": [
    {
     "name": "stdout",
     "output_type": "stream",
     "text": [
      "210\n"
     ]
    }
   ],
   "source": [
    "dict4 = {1: 10, 2: 20, 3: 30, 4: 40, 5: 50, 6: 60}\n",
    "summa = 0\n",
    "\n",
    "for i in dict4.values():\n",
    "    summa += i\n",
    "    \n",
    "print(summa)"
   ]
  },
  {
   "cell_type": "markdown",
   "metadata": {},
   "source": [
    "7) Перемножить все значения из словаря ``dict4``, полученного в задаче 5)."
   ]
  },
  {
   "cell_type": "code",
   "execution_count": 32,
   "metadata": {},
   "outputs": [
    {
     "name": "stdout",
     "output_type": "stream",
     "text": [
      "720000000\n"
     ]
    }
   ],
   "source": [
    "dict4 = {1: 10, 2: 20, 3: 30, 4: 40, 5: 50, 6: 60}\n",
    "mult = 1\n",
    "\n",
    "for i in dict4.values():\n",
    "    mult *= i\n",
    "    \n",
    "print(mult)"
   ]
  },
  {
   "cell_type": "markdown",
   "metadata": {},
   "source": [
    "8) Просуммировать произведения ключей на соответствующие им значения из словаря ``dict4``, полученного в задаче 5)."
   ]
  },
  {
   "cell_type": "code",
   "execution_count": 33,
   "metadata": {},
   "outputs": [
    {
     "name": "stdout",
     "output_type": "stream",
     "text": [
      "910\n"
     ]
    }
   ],
   "source": [
    "dict4 = {1: 10, 2: 20, 3: 30, 4: 40, 5: 50, 6: 60}\n",
    "mult = 1\n",
    "summa = 0 \n",
    "for i in dict4.keys():\n",
    "    mult = dict4[i] * i\n",
    "    summa += mult\n",
    "    mult = 1\n",
    "print(summa)"
   ]
  },
  {
   "cell_type": "markdown",
   "metadata": {},
   "source": [
    "9) На базе словаря ``dict1`` создать словарь ``dict3``, в котором нет пар ключ-значение с ключами, встречающимися в словаре ``dict2``."
   ]
  },
  {
   "cell_type": "code",
   "execution_count": 49,
   "metadata": {},
   "outputs": [
    {
     "name": "stdout",
     "output_type": "stream",
     "text": [
      "dict3 = {'a': 3, 'b': 4, 'c': 5, 'd': 6}\n"
     ]
    }
   ],
   "source": [
    "dict1 = {'a': 3, 'b': 4, 'c': 5, 'd': 6, 'e': 7, 'f': 8, 'g': 9}\n",
    "dict2 = {'e': 20, 'f': 21, 'g': 22, 'h': 23, 'i': 24, 'j': 25, 'k': 26, 'l': 27}\n",
    "dict3 = {}\n",
    "\n",
    "for i in dict1.keys():\n",
    "    if i in dict2:\n",
    "        continue\n",
    "    else:\n",
    "        dict_temp = {i: dict1[i]}\n",
    "        dict3.update(dict_temp)\n",
    "print('dict3 =', dict3)"
   ]
  },
  {
   "cell_type": "markdown",
   "metadata": {},
   "source": [
    "Ответ:"
   ]
  },
  {
   "cell_type": "raw",
   "metadata": {},
   "source": [
    "dict3 = {'a': 3, 'b': 4, 'c': 5, 'd': 6}"
   ]
  },
  {
   "cell_type": "markdown",
   "metadata": {},
   "source": [
    "10) Создать словарь ``dict3``, в котором есть все пары ключ-значения из ``dict1`` из задачи 9), и дополнить его парами ключ-значение из словаря ``dict2``, которые отсутствуют в ``dict1``."
   ]
  },
  {
   "cell_type": "code",
   "execution_count": 51,
   "metadata": {},
   "outputs": [
    {
     "name": "stdout",
     "output_type": "stream",
     "text": [
      "{'a': 3, 'b': 4, 'c': 5, 'd': 6, 'e': 7, 'f': 8, 'g': 9, 'h': 23, 'i': 24, 'j': 25, 'k': 26, 'l': 27}\n"
     ]
    }
   ],
   "source": [
    "dict1 = {'a': 3, 'b': 4, 'c': 5, 'd': 6, 'e': 7, 'f': 8, 'g': 9}\n",
    "dict2 = {'e': 20, 'f': 21, 'g': 22, 'h': 23, 'i': 24, 'j': 25, 'k': 26, 'l': 27}\n",
    "dict3 = {}\n",
    "dict3.update(dict1)\n",
    "\n",
    "for i in dict2.keys():\n",
    "    if i in dict1:\n",
    "        continue\n",
    "    else:\n",
    "        dict_temp = {i: dict2[i]}\n",
    "        dict3.update(dict_temp)\n",
    "print(dict3)"
   ]
  },
  {
   "cell_type": "markdown",
   "metadata": {},
   "source": [
    "Ответ:"
   ]
  },
  {
   "cell_type": "raw",
   "metadata": {},
   "source": [
    "{'a': 3, 'b': 4, 'c': 5, 'd': 6, 'e': 7, 'f': 8, 'g': 9, 'h': 23, 'i': 24, 'j': 25, 'k': 26, 'l': 27}"
   ]
  },
  {
   "cell_type": "markdown",
   "metadata": {},
   "source": [
    "11) Создать словарь ``dict3``, в котором по ключам, одновреммено присутствующим и в ``dict1``, и в ``dict2`` из задачи 9), разместить разность соответствующих значений."
   ]
  },
  {
   "cell_type": "code",
   "execution_count": 52,
   "metadata": {},
   "outputs": [
    {
     "name": "stdout",
     "output_type": "stream",
     "text": [
      "{'e': -13, 'f': -13, 'g': -13}\n"
     ]
    }
   ],
   "source": [
    "dict1 = {'a': 3, 'b': 4, 'c': 5, 'd': 6, 'e': 7, 'f': 8, 'g': 9}\n",
    "dict2 = {'e': 20, 'f': 21, 'g': 22, 'h': 23, 'i': 24, 'j': 25, 'k': 26, 'l': 27}\n",
    "dict3 = {}\n",
    "\n",
    "for i in dict1.keys():\n",
    "    if i in dict2:\n",
    "        dict_temp = {i: (dict1[i] - dict2[i])}\n",
    "        dict3.update(dict_temp)\n",
    "    else:\n",
    "        continue\n",
    "print(dict3)"
   ]
  },
  {
   "cell_type": "markdown",
   "metadata": {},
   "source": [
    "Ответ:"
   ]
  },
  {
   "cell_type": "raw",
   "metadata": {},
   "source": [
    "{'e': -13, 'f': -13, 'g': -13}"
   ]
  },
  {
   "cell_type": "markdown",
   "metadata": {},
   "source": [
    "12) Из списка ``ri1`` получить упорядоченный по возрастанию список, не имеющий повторяющихся значений."
   ]
  },
  {
   "cell_type": "code",
   "execution_count": 59,
   "metadata": {},
   "outputs": [
    {
     "data": {
      "text/plain": [
       "[1, 2, 3, 4, 5, 6, 7, 8, 9, 10, 11, 12, 13, 14, 15]"
      ]
     },
     "execution_count": 59,
     "metadata": {},
     "output_type": "execute_result"
    }
   ],
   "source": [
    "import random\n",
    "\n",
    "ri1 = [random.randint(1, 15) for _ in range(30)]\n",
    "s = list(set(ri1))\n",
    "s"
   ]
  },
  {
   "cell_type": "markdown",
   "metadata": {},
   "source": [
    "13) В словаре, полученном в задаче 3), удалить (в том же самом словере, не создавая новый) все пары ключ-значения для символов, встречающихся менее 5 раз."
   ]
  },
  {
   "cell_type": "code",
   "execution_count": 28,
   "metadata": {},
   "outputs": [
    {
     "ename": "RuntimeError",
     "evalue": "dictionary changed size during iteration",
     "output_type": "error",
     "traceback": [
      "\u001b[1;31m---------------------------------------------------------------------------\u001b[0m",
      "\u001b[1;31mRuntimeError\u001b[0m                              Traceback (most recent call last)",
      "\u001b[1;32m<ipython-input-28-657fd1bd3f9c>\u001b[0m in \u001b[0;36m<module>\u001b[1;34m()\u001b[0m\n\u001b[0;32m     37\u001b[0m         \u001b[0mdict_eo\u001b[0m\u001b[1;33m.\u001b[0m\u001b[0mupdate\u001b[0m\u001b[1;33m(\u001b[0m\u001b[0mdict_temp\u001b[0m\u001b[1;33m)\u001b[0m\u001b[1;33m\u001b[0m\u001b[0m\n\u001b[0;32m     38\u001b[0m \u001b[1;33m\u001b[0m\u001b[0m\n\u001b[1;32m---> 39\u001b[1;33m \u001b[1;32mfor\u001b[0m \u001b[0mk\u001b[0m \u001b[1;32min\u001b[0m \u001b[0mdict_eo\u001b[0m\u001b[1;33m.\u001b[0m\u001b[0mkeys\u001b[0m\u001b[1;33m(\u001b[0m\u001b[1;33m)\u001b[0m\u001b[1;33m:\u001b[0m\u001b[1;33m\u001b[0m\u001b[0m\n\u001b[0m\u001b[0;32m     40\u001b[0m     \u001b[0mtemp\u001b[0m \u001b[1;33m=\u001b[0m \u001b[0mk\u001b[0m\u001b[1;33m\u001b[0m\u001b[0m\n\u001b[0;32m     41\u001b[0m     \u001b[1;32mif\u001b[0m\u001b[1;33m(\u001b[0m\u001b[0mdict_eo\u001b[0m\u001b[1;33m[\u001b[0m\u001b[0mtemp\u001b[0m\u001b[1;33m]\u001b[0m \u001b[1;33m<\u001b[0m \u001b[1;36m5\u001b[0m\u001b[1;33m)\u001b[0m\u001b[1;33m:\u001b[0m\u001b[1;33m\u001b[0m\u001b[0m\n",
      "\u001b[1;31mRuntimeError\u001b[0m: dictionary changed size during iteration"
     ]
    }
   ],
   "source": [
    "evgene_o = \"\"\"My uncle -- high ideals inspire him;\n",
    "     but when past joking he fell sick,\n",
    "     he really forced one to admire him --\n",
    "     and never played a shrewder trick.\n",
    "     Let others learn from his example!\n",
    "     But God, how deadly dull to sample\n",
    "     sickroom attendance night and day\n",
    "     and never stir a foot away!\n",
    "     And the sly baseness, fit to throttle,\n",
    "     of entertaining the half-dead:\n",
    "     one smoothes the pillows down in bed,\n",
    "     and glumly serves the medicine bottle,\n",
    "     and sighs, and asks oneself all through:\n",
    "     When will the devil come for you?\n",
    "     \n",
    "     Such were a young rake's meditations --\n",
    "     by will of Zeus, the high and just,\n",
    "     the legatee of his relations --\n",
    "     as horses whirled him through the dust.\n",
    "     Friends of my Ruslan and Lyudmila,\n",
    "     without preliminary feeler\n",
    "     let me acquaint you on the nail\n",
    "     with this the hero of my tale:\n",
    "     Onegin, my good friend, was littered\n",
    "     and bred upon the Neva's brink,\n",
    "     where you were born as well, I think,\n",
    "     reader, or where you've shone and glittered!\n",
    "     There once I too strolled back and forth:\n",
    "     but I'm allergic to the North...\"\"\"\n",
    "\n",
    "dict_eo = {}\n",
    "for i, symb in enumerate(evgene_o):\n",
    "    if(symb in dict_eo):\n",
    "         dict_eo[symb] += 1\n",
    "    else:\n",
    "        dict_temp = {symb: 1}\n",
    "        dict_eo.update(dict_temp)\n",
    "        \n",
    "for k in dict_eo.keys():\n",
    "    temp = k\n",
    "    if(dict_eo[temp] < 5):\n",
    "        dict_eo.pop(temp)\n",
    "print('Найдено всего:\\n')\n",
    "for k in dict_eo.keys():\n",
    "    print(k, '-', dict_eo[k])"
   ]
  },
  {
   "cell_type": "markdown",
   "metadata": {},
   "source": [
    "14) Дан словарь. На его основе создать новый словарь, в котором ключи и значения поменяны местами. Например:"
   ]
  },
  {
   "cell_type": "raw",
   "metadata": {},
   "source": [
    "{'a': 1, 'b': 2, 'c': 3, 'd': 4} -> {1: 'a', 2: 'b', 3: 'c', 4: 'd'}"
   ]
  },
  {
   "cell_type": "code",
   "execution_count": 60,
   "metadata": {},
   "outputs": [
    {
     "name": "stdout",
     "output_type": "stream",
     "text": [
      "{1: 'a', 2: 'b', 3: 'c', 4: 'd'}\n"
     ]
    }
   ],
   "source": [
    "dict1 = {'a': 1, 'b': 2, 'c': 3, 'd': 4}\n",
    "dict_new = {}\n",
    "\n",
    "for i in dict1.keys():\n",
    "        dict_temp = {dict1[i]: i}\n",
    "        dict_new.update(dict_temp)\n",
    "print(dict_new)"
   ]
  },
  {
   "cell_type": "markdown",
   "metadata": {},
   "source": [
    "15) Составить программу **\"Мешок\"**. Программа раз за разом запрашивает у пользователя новые значения и \"кладет их в мешок\". Если полученное значение уже есть в мешке, то оно не помещается в мешок, а пользователю сообщается о том, что такое значение уже есть в мешке. Максимальное количество значений в мешке - 5 штук. Если помещение в мешок очередного значения приводит к его переполнению, то из него извлекается одно из хранившихся в нем ранее значений и предъявляется пользователю. Для того чтобы выйти из программы, пользователь вводит \"Exit\" При выходе из программы пользователю демонстрируется содержимое мешка.\n",
    "\n",
    "15.1\\*) Дополнительная опция: пользователь может вводить сразу несколько значений, разделенных запятой."
   ]
  },
  {
   "cell_type": "code",
   "execution_count": 5,
   "metadata": {},
   "outputs": [
    {
     "name": "stdout",
     "output_type": "stream",
     "text": [
      "1\n",
      "2\n",
      "3\n",
      "4\n",
      "5\n",
      "6\n",
      "Элемент 1 удален\n",
      "7\n",
      "Элемент 2 удален\n",
      "3\n",
      "Значение 3 уже в мешке!\n",
      "2\n",
      "Элемент 3 удален\n",
      "Exit\n",
      "{2, 4, 5, 6, 7}\n"
     ]
    }
   ],
   "source": [
    "#Мешок\n",
    "meshok = set()\n",
    "s = 0\n",
    "\n",
    "while(s != 'Exit'):\n",
    "    s = input()\n",
    "    if(s == 'Exit'):\n",
    "        break\n",
    "    elif(int(s) in meshok):\n",
    "        print('Значение', s, 'уже в мешке!')\n",
    "        continue\n",
    "    elif (len(meshok) == 5):\n",
    "        del_e = meshok.pop()\n",
    "        print('Элемент', del_e, 'удален')\n",
    "        meshok.add(int(s))\n",
    "    elif(len(meshok) < 5):\n",
    "        meshok.add(int(s))\n",
    "print(meshok)"
   ]
  },
  {
   "cell_type": "code",
   "execution_count": 7,
   "metadata": {},
   "outputs": [
    {
     "name": "stdout",
     "output_type": "stream",
     "text": [
      "1, 2, 4, 5, 7, 1, 88, 88, 5, Exit\n",
      "Значение 1 уже в мешке!\n",
      "Элемент 1 удален\n",
      "Значение 88 уже в мешке!\n",
      "Значение 5 уже в мешке!\n",
      "{2, 4, 5, 7, 88}\n"
     ]
    }
   ],
   "source": [
    "#Усовершенствованный мешок\n",
    "meshok = set()\n",
    "s = input()\n",
    "s = s.split(\", \")\n",
    "\n",
    "for i in s:\n",
    "    if(i == 'Exit'):\n",
    "        break\n",
    "    elif(int(i) in meshok):\n",
    "        print('Значение', i, 'уже в мешке!')\n",
    "        continue\n",
    "    elif (len(meshok) == 5):\n",
    "        del_e = meshok.pop()\n",
    "        print('Элемент', del_e, 'удален')\n",
    "        meshok.add(int(i))\n",
    "    elif(len(meshok) < 5):\n",
    "        meshok.add(int(i))\n",
    "print(meshok)"
   ]
  },
  {
   "cell_type": "code",
   "execution_count": null,
   "metadata": {},
   "outputs": [],
   "source": []
  }
 ],
 "metadata": {
  "kernelspec": {
   "display_name": "Python 3",
   "language": "python",
   "name": "python3"
  },
  "language_info": {
   "codemirror_mode": {
    "name": "ipython",
    "version": 3
   },
   "file_extension": ".py",
   "mimetype": "text/x-python",
   "name": "python",
   "nbconvert_exporter": "python",
   "pygments_lexer": "ipython3",
   "version": "3.7.0"
  }
 },
 "nbformat": 4,
 "nbformat_minor": 2
}
